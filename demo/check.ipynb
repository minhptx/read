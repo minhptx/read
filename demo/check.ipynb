{
 "cells": [
  {
   "cell_type": "code",
   "execution_count": 36,
   "id": "a4b5909c-0150-4317-b574-59ddf1467acb",
   "metadata": {},
   "outputs": [],
   "source": [
    "import pandas as pd\n",
    "\n",
    "df = pd.read_json(\"../data/totto2/augmented/train.jsonl\", lines=True)"
   ]
  },
  {
   "cell_type": "code",
   "execution_count": 42,
   "id": "ad413f9a-2326-40ea-89db-ce714d02efe0",
   "metadata": {},
   "outputs": [
    {
     "data": {
      "text/plain": [
       "97826"
      ]
     },
     "execution_count": 42,
     "metadata": {},
     "output_type": "execute_result"
    }
   ],
   "source": [
    "len(df)"
   ]
  },
  {
   "cell_type": "code",
   "execution_count": 46,
   "id": "9168be06-2592-4cd1-bbc0-fca485cccbb7",
   "metadata": {},
   "outputs": [],
   "source": [
    "item = df.iloc[5]"
   ]
  },
  {
   "cell_type": "code",
   "execution_count": 47,
   "id": "f4a0e08b-d8a8-42e2-b462-795c118c449e",
   "metadata": {},
   "outputs": [],
   "source": [
    "import json\n",
    "\n",
    "table = pd.DataFrame(item[\"table\"])\n",
    "cells = zip(*item[\"highlighted_cells\"])\n",
    "cells = [list(x) for x in cells]\n",
    "sub_table = table.iloc[cells[0], cells[1]].drop_duplicates().reset_index().astype(str)\n",
    "sub_table = sub_table.iloc[:,~sub_table.columns.duplicated()]"
   ]
  },
  {
   "cell_type": "code",
   "execution_count": 48,
   "id": "a0143889-a166-43ef-9c39-7bbf10a26f27",
   "metadata": {},
   "outputs": [
    {
     "data": {
      "text/html": [
       "<div>\n",
       "<style scoped>\n",
       "    .dataframe tbody tr th:only-of-type {\n",
       "        vertical-align: middle;\n",
       "    }\n",
       "\n",
       "    .dataframe tbody tr th {\n",
       "        vertical-align: top;\n",
       "    }\n",
       "\n",
       "    .dataframe thead th {\n",
       "        text-align: right;\n",
       "    }\n",
       "</style>\n",
       "<table border=\"1\" class=\"dataframe\">\n",
       "  <thead>\n",
       "    <tr style=\"text-align: right;\">\n",
       "      <th></th>\n",
       "      <th>index</th>\n",
       "      <th>Japan of Season of Club performance</th>\n",
       "      <th>Japan of Club of Club performance</th>\n",
       "      <th>Japan of League of Club performance</th>\n",
       "    </tr>\n",
       "  </thead>\n",
       "  <tbody>\n",
       "    <tr>\n",
       "      <th>0</th>\n",
       "      <td>0</td>\n",
       "      <td>1998</td>\n",
       "      <td>Júbilo Iwata</td>\n",
       "      <td>J1 League</td>\n",
       "    </tr>\n",
       "    <tr>\n",
       "      <th>1</th>\n",
       "      <td>1</td>\n",
       "      <td>2001</td>\n",
       "      <td>Ventforet Kofu</td>\n",
       "      <td>J2 League</td>\n",
       "    </tr>\n",
       "  </tbody>\n",
       "</table>\n",
       "</div>"
      ],
      "text/plain": [
       "  index Japan of Season of Club performance Japan of Club of Club performance  \\\n",
       "0     0                                1998                      Júbilo Iwata   \n",
       "1     1                                2001                    Ventforet Kofu   \n",
       "\n",
       "  Japan of League of Club performance  \n",
       "0                           J1 League  \n",
       "1                           J2 League  "
      ]
     },
     "execution_count": 48,
     "metadata": {},
     "output_type": "execute_result"
    }
   ],
   "source": [
    "sub_table"
   ]
  },
  {
   "cell_type": "code",
   "execution_count": 13,
   "id": "b3e05643-567c-4338-b448-afb160bd6412",
   "metadata": {},
   "outputs": [
    {
     "data": {
      "text/plain": [
       "'Ken Fujita'"
      ]
     },
     "execution_count": 13,
     "metadata": {},
     "output_type": "execute_result"
    }
   ],
   "source": [
    "item[\"table_page_title\"]"
   ]
  },
  {
   "cell_type": "code",
   "execution_count": 14,
   "id": "67d73f8b-9971-472d-9c48-23914774d406",
   "metadata": {},
   "outputs": [
    {
     "data": {
      "text/plain": [
       "table                      [{'Japan of Season of Club performance': '1998...\n",
       "table_webpage_url                    http://en.wikipedia.org/wiki/Ken_Fujita\n",
       "table_page_title                                                  Ken Fujita\n",
       "table_section_title                                          Club statistics\n",
       "table_section_text                                                          \n",
       "highlighted_cells                           [[0, 0], [1, 0], [1, 1], [1, 2]]\n",
       "example_id                                              -4663664476471238856\n",
       "sentence_annotations       [{'original_sentence': 'After 2 years blank, h...\n",
       "full_table_str             <table> <row> <cell> Club performance </cell> ...\n",
       "subtable_str               <table> <cell> 1998 <col_header> Club performa...\n",
       "full_table_metadata_str    <page_title> Ken Fujita </page_title> <section...\n",
       "subtable_metadata_str      <page_title> Ken Fujita </page_title> <section...\n",
       "num_numeric_headers                                                        0\n",
       "sentence                   After 2 years blank, he joined J2 League club ...\n",
       "has_verb                                                                True\n",
       "valid_columns                                                      [0, 1, 2]\n",
       "num_rows                                                                  11\n",
       "negatives                                                                   \n",
       "label                                                                      1\n",
       "Name: 10, dtype: object"
      ]
     },
     "execution_count": 14,
     "metadata": {},
     "output_type": "execute_result"
    }
   ],
   "source": [
    "item"
   ]
  },
  {
   "cell_type": "code",
   "execution_count": null,
   "id": "21429f6f-e23a-45a0-be4c-47a00f476fc1",
   "metadata": {},
   "outputs": [],
   "source": []
  }
 ],
 "metadata": {
  "kernelspec": {
   "display_name": "Python 3 (ipykernel)",
   "language": "python",
   "name": "python3"
  },
  "language_info": {
   "codemirror_mode": {
    "name": "ipython",
    "version": 3
   },
   "file_extension": ".py",
   "mimetype": "text/x-python",
   "name": "python",
   "nbconvert_exporter": "python",
   "pygments_lexer": "ipython3",
   "version": "3.8.13"
  }
 },
 "nbformat": 4,
 "nbformat_minor": 5
}
