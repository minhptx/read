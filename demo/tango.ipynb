{
 "cells": [
  {
   "cell_type": "code",
   "execution_count": 10,
   "id": "3f1b7441-8245-492b-8404-55d9e2384648",
   "metadata": {},
   "outputs": [],
   "source": [
    "from tango import Workspace\n",
    "workspace = Workspace.from_url(\"local:///root/workspace/read/temp/training\")\n",
    "result = workspace.step_result_for_run(\"infotab_totto_pipeline\", \"eval_verification\")"
   ]
  },
  {
   "cell_type": "code",
   "execution_count": 11,
   "id": "4d812b17-a480-4782-8492-f960c8ccca2f",
   "metadata": {},
   "outputs": [
    {
     "data": {
      "text/plain": [
       "{'loss': 0.6931571960449219,\n",
       " 'accuracy': {'accuracy': 0.5},\n",
       " 'f1': {'f1': 0.0},\n",
       " 'precision': {'precision': 0.0},\n",
       " 'recall': {'recall': 0.0}}"
      ]
     },
     "execution_count": 11,
     "metadata": {},
     "output_type": "execute_result"
    }
   ],
   "source": [
    "result"
   ]
  },
  {
   "cell_type": "code",
   "execution_count": 19,
   "id": "4f059877-3841-41d9-9ca7-21406a9249a6",
   "metadata": {},
   "outputs": [
    {
     "data": {
      "text/plain": [
       "{'table': [{'Year': '1941',\n",
       "   'Title': 'The Little Foxes',\n",
       "   'Role': 'Cal',\n",
       "   'Notes': ''},\n",
       "  {'Year': '1953',\n",
       "   'Title': 'The Joe Louis Story',\n",
       "   'Role': 'Sam Langford',\n",
       "   'Notes': ''},\n",
       "  {'Year': '1963', 'Title': 'The Cool World', 'Role': 'Hurst', 'Notes': ''},\n",
       "  {'Year': '1964', 'Title': 'Black Like Me', 'Role': 'Hodges', 'Notes': ''},\n",
       "  {'Year': '1972',\n",
       "   'Title': 'Dear Dead Delilah',\n",
       "   'Role': 'Marshall',\n",
       "   'Notes': ''},\n",
       "  {'Year': '1972', 'Title': 'Corky', 'Role': 'Junkman', 'Notes': ''},\n",
       "  {'Year': '1973',\n",
       "   'Title': 'Badge 373',\n",
       "   'Role': 'Superintendent',\n",
       "   'Notes': ''},\n",
       "  {'Year': '1975',\n",
       "   'Title': 'Dog Day Afternoon',\n",
       "   'Role': 'Howard',\n",
       "   'Notes': '(final film role)'}],\n",
       " 'table_webpage_url': 'http://en.wikipedia.org/wiki/John_Marriott_(actor)',\n",
       " 'table_page_title': 'John Marriott (actor)',\n",
       " 'table_section_title': 'Filmography',\n",
       " 'table_section_text': '',\n",
       " 'highlighted_cells': [[7, 0], [7, 1], [7, 2], [7, 3]],\n",
       " 'example_id': -8824613940853128584,\n",
       " 'overlap_subset': True,\n",
       " 'sentence_annotations': [{'original_sentence': \"Marriott appeared in several films during the early 1970s, his final appearance on the big screen was as the asthmatic bank security guard, Howard, in 1975's Dog Day Afternoon, starring Al Pacino.\",\n",
       "   'sentence_after_deletion': \"Marriott final appearance was as Howard, in 1975's Dog Day Afternoon.\",\n",
       "   'sentence_after_ambiguity': \"Marriott's final appearance was as Howard, in 1975's Dog Day Afternoon.\",\n",
       "   'final_sentence': \"Marriott's final appearance was as Howard, in 1975's Dog Day Afternoon.\"},\n",
       "  {'original_sentence': \"Marriott appeared in several films during the early 1970s, his final appearance on the big screen was as the asthmatic bank security guard, Howard, in 1975's Dog Day Afternoon, starring Al Pacino.\",\n",
       "   'sentence_after_deletion': \"Marriott appeared in films his final as the Howard, in 1975's Dog Day Afternoon\",\n",
       "   'sentence_after_ambiguity': \"Marriott appeared in his final film as the Howard, in 1975's Dog Day Afternoon.\",\n",
       "   'final_sentence': \"Marriott appeared in his final film as the Howard, in 1975's Dog Day Afternoon.\"},\n",
       "  {'original_sentence': \"Marriott appeared in several films during the early 1970s, his final appearance on the big screen was as the asthmatic bank security guard, Howard, in 1975's Dog Day Afternoon, starring Al Pacino.\",\n",
       "   'sentence_after_deletion': \"Marriott final appearance was as the Howard, in 1975's Dog Day Afternoon.\",\n",
       "   'sentence_after_ambiguity': \"Marriott's final appearance was as the Howard, in 1975's Dog Day Afternoon.\",\n",
       "   'final_sentence': \"Marriott's final appearance was as Howard in 1975's Dog Day Afternoon.\"}],\n",
       " 'full_table_str': '<table> <row> <cell> Year </cell> <cell> Title <row_header> Year </row_header> </cell> <cell> Role <row_header> Year </row_header> <row_header> Title </row_header> </cell> <cell> Notes <row_header> Year </row_header> <row_header> Title </row_header> <row_header> Role </row_header> </cell> </row> <row> <cell> 1941 <col_header> Year </col_header> </cell> <cell> The Little Foxes <col_header> Title </col_header> </cell> <cell> Cal <col_header> Role </col_header> </cell> <cell>  <col_header> Notes </col_header> </cell> </row> <row> <cell> 1953 <col_header> Year </col_header> </cell> <cell> The Joe Louis Story <col_header> Title </col_header> </cell> <cell> Sam Langford <col_header> Role </col_header> </cell> <cell>  <col_header> Notes </col_header> </cell> </row> <row> <cell> 1963 <col_header> Year </col_header> </cell> <cell> The Cool World <col_header> Title </col_header> </cell> <cell> Hurst <col_header> Role </col_header> </cell> <cell>  <col_header> Notes </col_header> </cell> </row> <row> <cell> 1964 <col_header> Year </col_header> </cell> <cell> Black Like Me <col_header> Title </col_header> </cell> <cell> Hodges <col_header> Role </col_header> </cell> <cell>  <col_header> Notes </col_header> </cell> </row> <row> <cell> 1972 <col_header> Year </col_header> </cell> <cell> Dear Dead Delilah <col_header> Title </col_header> </cell> <cell> Marshall <col_header> Role </col_header> </cell> <cell>  <col_header> Notes </col_header> </cell> </row> <row> <cell> 1972 <col_header> Year </col_header> </cell> <cell> Corky <col_header> Title </col_header> </cell> <cell> Junkman <col_header> Role </col_header> </cell> <cell>  <col_header> Notes </col_header> </cell> </row> <row> <cell> 1973 <col_header> Year </col_header> </cell> <cell> Badge 373 <col_header> Title </col_header> </cell> <cell> Superintendent <col_header> Role </col_header> </cell> <cell>  <col_header> Notes </col_header> </cell> </row> <row> <highlighted_cell> 1975 <col_header> Year </col_header> </highlighted_cell> <highlighted_cell> Dog Day Afternoon <col_header> Title </col_header> </highlighted_cell> <highlighted_cell> Howard <col_header> Role </col_header> </highlighted_cell> <highlighted_cell> (final film role) <col_header> Notes </col_header> </highlighted_cell> </row> </table>',\n",
       " 'subtable_str': '<table> <cell> 1975 <col_header> Year </col_header> </cell> <cell> Dog Day Afternoon <col_header> Title </col_header> </cell> <cell> Howard <col_header> Role </col_header> </cell> <cell> (final film role) <col_header> Notes </col_header> </cell> </table>',\n",
       " 'full_table_metadata_str': '<page_title> John Marriott (actor) </page_title> <section_title> Filmography </section_title> <table> <row> <cell> Year </cell> <cell> Title <row_header> Year </row_header> </cell> <cell> Role <row_header> Year </row_header> <row_header> Title </row_header> </cell> <cell> Notes <row_header> Year </row_header> <row_header> Title </row_header> <row_header> Role </row_header> </cell> </row> <row> <cell> 1941 <col_header> Year </col_header> </cell> <cell> The Little Foxes <col_header> Title </col_header> </cell> <cell> Cal <col_header> Role </col_header> </cell> <cell>  <col_header> Notes </col_header> </cell> </row> <row> <cell> 1953 <col_header> Year </col_header> </cell> <cell> The Joe Louis Story <col_header> Title </col_header> </cell> <cell> Sam Langford <col_header> Role </col_header> </cell> <cell>  <col_header> Notes </col_header> </cell> </row> <row> <cell> 1963 <col_header> Year </col_header> </cell> <cell> The Cool World <col_header> Title </col_header> </cell> <cell> Hurst <col_header> Role </col_header> </cell> <cell>  <col_header> Notes </col_header> </cell> </row> <row> <cell> 1964 <col_header> Year </col_header> </cell> <cell> Black Like Me <col_header> Title </col_header> </cell> <cell> Hodges <col_header> Role </col_header> </cell> <cell>  <col_header> Notes </col_header> </cell> </row> <row> <cell> 1972 <col_header> Year </col_header> </cell> <cell> Dear Dead Delilah <col_header> Title </col_header> </cell> <cell> Marshall <col_header> Role </col_header> </cell> <cell>  <col_header> Notes </col_header> </cell> </row> <row> <cell> 1972 <col_header> Year </col_header> </cell> <cell> Corky <col_header> Title </col_header> </cell> <cell> Junkman <col_header> Role </col_header> </cell> <cell>  <col_header> Notes </col_header> </cell> </row> <row> <cell> 1973 <col_header> Year </col_header> </cell> <cell> Badge 373 <col_header> Title </col_header> </cell> <cell> Superintendent <col_header> Role </col_header> </cell> <cell>  <col_header> Notes </col_header> </cell> </row> <row> <highlighted_cell> 1975 <col_header> Year </col_header> </highlighted_cell> <highlighted_cell> Dog Day Afternoon <col_header> Title </col_header> </highlighted_cell> <highlighted_cell> Howard <col_header> Role </col_header> </highlighted_cell> <highlighted_cell> (final film role) <col_header> Notes </col_header> </highlighted_cell> </row> </table>',\n",
       " 'subtable_metadata_str': '<page_title> John Marriott (actor) </page_title> <section_title> Filmography </section_title> <table> <cell> 1953 <col_header> Year </col_header> </cell> <cell> Dog Day Afternoon <col_header> Title </col_header> </cell> <cell> Howard <col_header> Role </col_header> </cell> <cell> (final film role) <col_header> Notes </col_header> </cell> </table>',\n",
       " 'num_numeric_headers': 0,\n",
       " 'sentence': \"Marriott appeared in several films during the early 1970s, his final appearance on the big screen was as the asthmatic bank security guard, Howard, in 1975's Dog Day Afternoon, starring Al Pacino.\",\n",
       " 'has_verb': True,\n",
       " 'valid_columns': [0, 1, 2],\n",
       " 'num_rows': 8,\n",
       " 'negatives': '[\"1953\", \"1975\", 7, 0]',\n",
       " 'label': 0,\n",
       " 'linearized_table': '<page_title> John Marriott (actor) </page_title> <section_title> Filmography </section_title> <table> <cell> 1953 <col_header> Year </col_header> </cell> <cell> Dog Day Afternoon <col_header> Title </col_header> </cell> <cell> Howard <col_header> Role </col_header> </cell> <cell> (final film role) <col_header> Notes </col_header> </cell> </table>',\n",
       " 'title': 'John Marriott (actor)'}"
      ]
     },
     "execution_count": 19,
     "metadata": {},
     "output_type": "execute_result"
    }
   ],
   "source": [
    "model[\"failed_cases\"][\"document_retrieval\"][0]"
   ]
  },
  {
   "cell_type": "code",
   "execution_count": 3,
   "id": "64492d51-84d4-4e51-9517-f2f60a97c89f",
   "metadata": {},
   "outputs": [],
   "source": [
    "import torch\n",
    "import json\n",
    "from tango import Step\n",
    "from tango.common.dataset_dict import DatasetDict\n",
    "import pandas as pd\n",
    "from transformers import TapasTokenizer\n",
    "\n",
    "class TableDataset(torch.utils.data.Dataset):\n",
    "    def __init__(self, df, tokenizer):\n",
    "        self.df = df\n",
    "        self.tokenizer = tokenizer\n",
    "\n",
    "    def __getitem__(self, idx):\n",
    "        ex_id = idx % 2\n",
    "        idx = idx // 2\n",
    "        item = self.df.iloc[idx]\n",
    "        table = pd.DataFrame(json.loads(item[\"table\"]))\n",
    "        cells = zip(*item[\"highlighted_cells\"])\n",
    "        cells = [list(x) for x in cells]\n",
    "        sub_table = table.iloc[cells[0], cells[1]].reset_index().astype(str)\n",
    "\n",
    "        if ex_id == 0:\n",
    "            encoding = self.tokenizer(\n",
    "                table=sub_table,\n",
    "                queries=item[\"positive\"],\n",
    "                padding=\"max_length\",\n",
    "                truncation=True,\n",
    "                max_length=512,\n",
    "                return_tensors=\"pt\",\n",
    "            )\n",
    "            encoding[\"labels\"] = torch.tensor([1])\n",
    "        else:\n",
    "            encoding = self.tokenizer(\n",
    "                table=sub_table,\n",
    "                queries=item[\"negative\"],\n",
    "                padding=\"max_length\",\n",
    "                truncation=True,\n",
    "                max_length=512,\n",
    "                return_tensors=\"pt\",\n",
    "            )\n",
    "            encoding[\"labels\"] = torch.tensor([0])\n",
    "\n",
    "        encoding = {key: val[-1] for key, val in encoding.items()}\n",
    "        return encoding\n",
    "\n",
    "    def __len__(self):\n",
    "        return len(self.df)"
   ]
  },
  {
   "cell_type": "code",
   "execution_count": 7,
   "id": "8e95e920-efd9-49d2-8277-bb264ae5326c",
   "metadata": {},
   "outputs": [],
   "source": [
    "tokenizer = TapasTokenizer.from_pretrained(\"google/tapas-base\", max_question_length=256)\n",
    "torch.manual_seed(1)\n",
    "dev_df = pd.read_json(\"../temp/seed/sent_selection/data/dev.jsonl\", lines=True)\n",
    "\n",
    "dev_dataset = TableDataset(dev_df, tokenizer)"
   ]
  },
  {
   "cell_type": "code",
   "execution_count": 17,
   "id": "04bb3f17-10bc-42a1-b46b-e0f67e27c18b",
   "metadata": {},
   "outputs": [
    {
     "name": "stdout",
     "output_type": "stream",
     "text": [
      "<class 'transformers.models.tapas.modeling_tapas.TapasForSequenceClassification'>\n"
     ]
    }
   ],
   "source": [
    "from torch.utils.data import DataLoader\n",
    "import accelerate\n",
    "\n",
    "import evaluate\n",
    "name2metrics = {\n",
    "    \"accuracy\": evaluate.load(\"accuracy\"),\n",
    "    \"precision\": evaluate.load(\"precision\"),\n",
    "    \"recall\": evaluate.load(\"recall\"),\n",
    "    \"f1\": evaluate.load(\"f1\"),\n",
    "}\n",
    "\n",
    "dataloader = DataLoader(dev_dataset, batch_size=8, shuffle=False)\n",
    "accelerator = accelerate.Accelerator()\n",
    "\n",
    "print(type(model))\n",
    "\n",
    "model, dataloader = accelerator.prepare(model, dataloader)\n",
    "\n",
    "for batch in dataloader:\n",
    "    y_hat = model(**batch)\n",
    "    preds = y_hat.logits.argmax(dim=1)\n",
    "    for metric in name2metrics.values():\n",
    "        metric.add_batch(predictions=preds, references=batch[\"labels\"])\n",
    "\n"
   ]
  },
  {
   "cell_type": "code",
   "execution_count": 18,
   "id": "23b1a027-2f2b-40b7-ae18-0979d8045859",
   "metadata": {},
   "outputs": [
    {
     "name": "stdout",
     "output_type": "stream",
     "text": [
      "accuracy {'accuracy': 0.9653325817361894}\n",
      "precision {'precision': 0.97524467472654}\n",
      "recall {'recall': 0.9549041713641488}\n",
      "f1 {'f1': 0.9649672457989177}\n"
     ]
    }
   ],
   "source": [
    "for name, metric in name2metrics.items():\n",
    "    print(name, metric.compute())"
   ]
  },
  {
   "cell_type": "code",
   "execution_count": null,
   "id": "a34bf70f-5d4b-47b4-a579-4d60d170fb61",
   "metadata": {},
   "outputs": [],
   "source": []
  }
 ],
 "metadata": {
  "kernelspec": {
   "display_name": "Python 3 (ipykernel)",
   "language": "python",
   "name": "python3"
  },
  "language_info": {
   "codemirror_mode": {
    "name": "ipython",
    "version": 3
   },
   "file_extension": ".py",
   "mimetype": "text/x-python",
   "name": "python",
   "nbconvert_exporter": "python",
   "pygments_lexer": "ipython3",
   "version": "3.8.13"
  }
 },
 "nbformat": 4,
 "nbformat_minor": 5
}
