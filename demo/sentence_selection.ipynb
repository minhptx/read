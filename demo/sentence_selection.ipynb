{
 "cells": [
  {
   "cell_type": "code",
   "execution_count": null,
   "id": "161ce3cd-2c79-4a12-8e05-aa877e6b47e4",
   "metadata": {},
   "outputs": [],
   "source": [
    "%env CUDA_DEVICE_ORDER=PCI_BUS_ID\n",
    "%env CUDA_VISIBLE_DEVICES=5"
   ]
  },
  {
   "cell_type": "code",
   "execution_count": 1,
   "id": "25ca63a3-a0a4-4239-a024-3b53b5d10302",
   "metadata": {},
   "outputs": [],
   "source": [
    "%load_ext autoreload\n",
    "%autoreload 2\n",
    "\n",
    "import sys\n",
    "\n",
    "sys.path.append(\"../../read\")\n",
    "\n",
    "from read.utils.table import linearize"
   ]
  },
  {
   "cell_type": "code",
   "execution_count": 3,
   "id": "924c5386-c591-4d56-a0a9-dfb9bfc78a9a",
   "metadata": {},
   "outputs": [
    {
     "name": "stderr",
     "output_type": "stream",
     "text": [
      "/nas/home/minhpham/miniconda3/envs/read/lib/python3.8/site-packages/tqdm/auto.py:22: TqdmWarning: IProgress not found. Please update jupyter and ipywidgets. See https://ipywidgets.readthedocs.io/en/stable/user_install.html\n",
      "  from .autonotebook import tqdm as notebook_tqdm\n"
     ]
    }
   ],
   "source": [
    "from sentence_transformers import SentenceTransformer, util\n",
    "import os\n",
    "import jaro\n",
    "\n",
    "sentence_selector = SentenceTransformer(\"../temp/sentence_selection/bart-triplet-2\")\n",
    "\n",
    "def check_select(sent1, sent2):\n",
    "    embeddings1 = sentence_selector.encode(sent1, convert_to_tensor=True)\n",
    "    embeddings2 = sentence_selector.encode(sent2, convert_to_tensor=True)\n",
    "\n",
    "    #Compute cosine-similarities\n",
    "    cosine_scores = util.cos_sim(embeddings1, embeddings2)[0][0].item()\n",
    "    return cosine_scores"
   ]
  },
  {
   "cell_type": "code",
   "execution_count": 5,
   "id": "ca7b3a78-f6c2-4643-acf6-ee61ecd3aab9",
   "metadata": {},
   "outputs": [],
   "source": [
    "from kilt.knowledge_source import KnowledgeSource\n",
    "ks = KnowledgeSource()\n",
    "\n",
    "\n",
    "import pandas as pd\n",
    "\n",
    "df = pd.read_json(\"../data/totto/augmented/dev.jsonl\", lines=True)"
   ]
  },
  {
   "cell_type": "code",
   "execution_count": 12,
   "id": "0dd69250-784d-4d13-8a8b-9a8ddc18e96d",
   "metadata": {},
   "outputs": [
    {
     "name": "stdout",
     "output_type": "stream",
     "text": [
      "9\n",
      "{'RetrievalHitRate@1': tensor(0.6000), 'RetrievalRPrecision@1': tensor(0.6000), 'RetrievalRecall@1': tensor(0.6000), 'RetrievalPrecision@1': tensor(0.6000), 'RetrievalMRR@1': tensor(0.6441), 'RetrievalMAP@1': tensor(0.6441), 'RetrievalHitRate@5': tensor(0.7000), 'RetrievalRPrecision@5': tensor(0.6000), 'RetrievalRecall@5': tensor(0.7000), 'RetrievalPrecision@5': tensor(0.1400), 'RetrievalMRR@5': tensor(0.6441), 'RetrievalMAP@5': tensor(0.6441), 'RetrievalHitRate@10': tensor(0.8000), 'RetrievalRPrecision@10': tensor(0.6000), 'RetrievalRecall@10': tensor(0.8000), 'RetrievalPrecision@10': tensor(0.0800), 'RetrievalMRR@10': tensor(0.6441), 'RetrievalMAP@10': tensor(0.6441)}\n",
      "19\n",
      "{'RetrievalHitRate@1': tensor(0.3500), 'RetrievalRPrecision@1': tensor(0.3500), 'RetrievalRecall@1': tensor(0.3500), 'RetrievalPrecision@1': tensor(0.3500), 'RetrievalMRR@1': tensor(0.4392), 'RetrievalMAP@1': tensor(0.4392), 'RetrievalHitRate@5': tensor(0.5500), 'RetrievalRPrecision@5': tensor(0.3500), 'RetrievalRecall@5': tensor(0.5500), 'RetrievalPrecision@5': tensor(0.1100), 'RetrievalMRR@5': tensor(0.4392), 'RetrievalMAP@5': tensor(0.4392), 'RetrievalHitRate@10': tensor(0.7000), 'RetrievalRPrecision@10': tensor(0.3500), 'RetrievalRecall@10': tensor(0.7000), 'RetrievalPrecision@10': tensor(0.0700), 'RetrievalMRR@10': tensor(0.4392), 'RetrievalMAP@10': tensor(0.4392)}\n",
      "29\n",
      "{'RetrievalHitRate@1': tensor(0.3667), 'RetrievalRPrecision@1': tensor(0.3667), 'RetrievalRecall@1': tensor(0.3667), 'RetrievalPrecision@1': tensor(0.3667), 'RetrievalMRR@1': tensor(0.4502), 'RetrievalMAP@1': tensor(0.4502), 'RetrievalHitRate@5': tensor(0.5333), 'RetrievalRPrecision@5': tensor(0.3667), 'RetrievalRecall@5': tensor(0.5333), 'RetrievalPrecision@5': tensor(0.1067), 'RetrievalMRR@5': tensor(0.4502), 'RetrievalMAP@5': tensor(0.4502), 'RetrievalHitRate@10': tensor(0.6667), 'RetrievalRPrecision@10': tensor(0.3667), 'RetrievalRecall@10': tensor(0.6667), 'RetrievalPrecision@10': tensor(0.0667), 'RetrievalMRR@10': tensor(0.4502), 'RetrievalMAP@10': tensor(0.4502)}\n",
      "39\n",
      "{'RetrievalHitRate@1': tensor(0.3750), 'RetrievalRPrecision@1': tensor(0.3750), 'RetrievalRecall@1': tensor(0.3625), 'RetrievalPrecision@1': tensor(0.3750), 'RetrievalMRR@1': tensor(0.4554), 'RetrievalMAP@1': tensor(0.4554), 'RetrievalHitRate@5': tensor(0.5500), 'RetrievalRPrecision@5': tensor(0.3750), 'RetrievalRecall@5': tensor(0.5500), 'RetrievalPrecision@5': tensor(0.1150), 'RetrievalMRR@5': tensor(0.4554), 'RetrievalMAP@5': tensor(0.4554), 'RetrievalHitRate@10': tensor(0.6500), 'RetrievalRPrecision@10': tensor(0.3750), 'RetrievalRecall@10': tensor(0.6500), 'RetrievalPrecision@10': tensor(0.0675), 'RetrievalMRR@10': tensor(0.4554), 'RetrievalMAP@10': tensor(0.4554)}\n",
      "49\n",
      "{'RetrievalHitRate@1': tensor(0.4200), 'RetrievalRPrecision@1': tensor(0.4200), 'RetrievalRecall@1': tensor(0.4100), 'RetrievalPrecision@1': tensor(0.4200), 'RetrievalMRR@1': tensor(0.5083), 'RetrievalMAP@1': tensor(0.5083), 'RetrievalHitRate@5': tensor(0.6200), 'RetrievalRPrecision@5': tensor(0.4200), 'RetrievalRecall@5': tensor(0.6200), 'RetrievalPrecision@5': tensor(0.1280), 'RetrievalMRR@5': tensor(0.5083), 'RetrievalMAP@5': tensor(0.5083), 'RetrievalHitRate@10': tensor(0.7000), 'RetrievalRPrecision@10': tensor(0.4200), 'RetrievalRecall@10': tensor(0.7000), 'RetrievalPrecision@10': tensor(0.0720), 'RetrievalMRR@10': tensor(0.5083), 'RetrievalMAP@10': tensor(0.5083)}\n",
      "59\n",
      "{'RetrievalHitRate@1': tensor(0.4333), 'RetrievalRPrecision@1': tensor(0.4333), 'RetrievalRecall@1': tensor(0.4250), 'RetrievalPrecision@1': tensor(0.4333), 'RetrievalMRR@1': tensor(0.5319), 'RetrievalMAP@1': tensor(0.5319), 'RetrievalHitRate@5': tensor(0.6500), 'RetrievalRPrecision@5': tensor(0.4333), 'RetrievalRecall@5': tensor(0.6500), 'RetrievalPrecision@5': tensor(0.1333), 'RetrievalMRR@5': tensor(0.5319), 'RetrievalMAP@5': tensor(0.5319), 'RetrievalHitRate@10': tensor(0.7167), 'RetrievalRPrecision@10': tensor(0.4333), 'RetrievalRecall@10': tensor(0.7167), 'RetrievalPrecision@10': tensor(0.0733), 'RetrievalMRR@10': tensor(0.5319), 'RetrievalMAP@10': tensor(0.5319)}\n",
      "69\n",
      "{'RetrievalHitRate@1': tensor(0.4286), 'RetrievalRPrecision@1': tensor(0.4286), 'RetrievalRecall@1': tensor(0.4214), 'RetrievalPrecision@1': tensor(0.4286), 'RetrievalMRR@1': tensor(0.5408), 'RetrievalMAP@1': tensor(0.5408), 'RetrievalHitRate@5': tensor(0.6857), 'RetrievalRPrecision@5': tensor(0.4286), 'RetrievalRecall@5': tensor(0.6857), 'RetrievalPrecision@5': tensor(0.1400), 'RetrievalMRR@5': tensor(0.5408), 'RetrievalMAP@5': tensor(0.5408), 'RetrievalHitRate@10': tensor(0.7429), 'RetrievalRPrecision@10': tensor(0.4286), 'RetrievalRecall@10': tensor(0.7429), 'RetrievalPrecision@10': tensor(0.0757), 'RetrievalMRR@10': tensor(0.5408), 'RetrievalMAP@10': tensor(0.5408)}\n",
      "79\n",
      "{'RetrievalHitRate@1': tensor(0.4000), 'RetrievalRPrecision@1': tensor(0.4000), 'RetrievalRecall@1': tensor(0.3938), 'RetrievalPrecision@1': tensor(0.4000), 'RetrievalMRR@1': tensor(0.5264), 'RetrievalMAP@1': tensor(0.5264), 'RetrievalHitRate@5': tensor(0.6750), 'RetrievalRPrecision@5': tensor(0.4000), 'RetrievalRecall@5': tensor(0.6750), 'RetrievalPrecision@5': tensor(0.1375), 'RetrievalMRR@5': tensor(0.5264), 'RetrievalMAP@5': tensor(0.5264), 'RetrievalHitRate@10': tensor(0.7375), 'RetrievalRPrecision@10': tensor(0.4000), 'RetrievalRecall@10': tensor(0.7375), 'RetrievalPrecision@10': tensor(0.0750), 'RetrievalMRR@10': tensor(0.5264), 'RetrievalMAP@10': tensor(0.5264)}\n",
      "89\n",
      "{'RetrievalHitRate@1': tensor(0.3889), 'RetrievalRPrecision@1': tensor(0.3889), 'RetrievalRecall@1': tensor(0.3833), 'RetrievalPrecision@1': tensor(0.3889), 'RetrievalMRR@1': tensor(0.5267), 'RetrievalMAP@1': tensor(0.5267), 'RetrievalHitRate@5': tensor(0.6889), 'RetrievalRPrecision@5': tensor(0.3889), 'RetrievalRecall@5': tensor(0.6889), 'RetrievalPrecision@5': tensor(0.1400), 'RetrievalMRR@5': tensor(0.5267), 'RetrievalMAP@5': tensor(0.5267), 'RetrievalHitRate@10': tensor(0.7444), 'RetrievalRPrecision@10': tensor(0.3889), 'RetrievalRecall@10': tensor(0.7444), 'RetrievalPrecision@10': tensor(0.0756), 'RetrievalMRR@10': tensor(0.5267), 'RetrievalMAP@10': tensor(0.5267)}\n",
      "99\n",
      "{'RetrievalHitRate@1': tensor(0.3800), 'RetrievalRPrecision@1': tensor(0.3800), 'RetrievalRecall@1': tensor(0.3750), 'RetrievalPrecision@1': tensor(0.3800), 'RetrievalMRR@1': tensor(0.5155), 'RetrievalMAP@1': tensor(0.5155), 'RetrievalHitRate@5': tensor(0.6800), 'RetrievalRPrecision@5': tensor(0.3800), 'RetrievalRecall@5': tensor(0.6800), 'RetrievalPrecision@5': tensor(0.1380), 'RetrievalMRR@5': tensor(0.5155), 'RetrievalMAP@5': tensor(0.5155), 'RetrievalHitRate@10': tensor(0.7400), 'RetrievalRPrecision@10': tensor(0.3800), 'RetrievalRecall@10': tensor(0.7400), 'RetrievalPrecision@10': tensor(0.0750), 'RetrievalMRR@10': tensor(0.5155), 'RetrievalMAP@10': tensor(0.5155)}\n",
      "109\n",
      "{'RetrievalHitRate@1': tensor(0.3818), 'RetrievalRPrecision@1': tensor(0.3818), 'RetrievalRecall@1': tensor(0.3773), 'RetrievalPrecision@1': tensor(0.3818), 'RetrievalMRR@1': tensor(0.5141), 'RetrievalMAP@1': tensor(0.5141), 'RetrievalHitRate@5': tensor(0.6727), 'RetrievalRPrecision@5': tensor(0.3818), 'RetrievalRecall@5': tensor(0.6727), 'RetrievalPrecision@5': tensor(0.1364), 'RetrievalMRR@5': tensor(0.5141), 'RetrievalMAP@5': tensor(0.5141), 'RetrievalHitRate@10': tensor(0.7273), 'RetrievalRPrecision@10': tensor(0.3818), 'RetrievalRecall@10': tensor(0.7273), 'RetrievalPrecision@10': tensor(0.0736), 'RetrievalMRR@10': tensor(0.5141), 'RetrievalMAP@10': tensor(0.5141)}\n",
      "119\n",
      "{'RetrievalHitRate@1': tensor(0.3917), 'RetrievalRPrecision@1': tensor(0.3917), 'RetrievalRecall@1': tensor(0.3833), 'RetrievalPrecision@1': tensor(0.3917), 'RetrievalMRR@1': tensor(0.5243), 'RetrievalMAP@1': tensor(0.5243), 'RetrievalHitRate@5': tensor(0.6917), 'RetrievalRPrecision@5': tensor(0.3917), 'RetrievalRecall@5': tensor(0.6917), 'RetrievalPrecision@5': tensor(0.1417), 'RetrievalMRR@5': tensor(0.5243), 'RetrievalMAP@5': tensor(0.5243), 'RetrievalHitRate@10': tensor(0.7417), 'RetrievalRPrecision@10': tensor(0.3917), 'RetrievalRecall@10': tensor(0.7417), 'RetrievalPrecision@10': tensor(0.0758), 'RetrievalMRR@10': tensor(0.5243), 'RetrievalMAP@10': tensor(0.5243)}\n",
      "129\n",
      "{'RetrievalHitRate@1': tensor(0.3923), 'RetrievalRPrecision@1': tensor(0.3923), 'RetrievalRecall@1': tensor(0.3846), 'RetrievalPrecision@1': tensor(0.3923), 'RetrievalMRR@1': tensor(0.5175), 'RetrievalMAP@1': tensor(0.5175), 'RetrievalHitRate@5': tensor(0.6692), 'RetrievalRPrecision@5': tensor(0.3923), 'RetrievalRecall@5': tensor(0.6692), 'RetrievalPrecision@5': tensor(0.1369), 'RetrievalMRR@5': tensor(0.5175), 'RetrievalMAP@5': tensor(0.5175), 'RetrievalHitRate@10': tensor(0.7308), 'RetrievalRPrecision@10': tensor(0.3923), 'RetrievalRecall@10': tensor(0.7308), 'RetrievalPrecision@10': tensor(0.0746), 'RetrievalMRR@10': tensor(0.5175), 'RetrievalMAP@10': tensor(0.5175)}\n",
      "139\n",
      "{'RetrievalHitRate@1': tensor(0.3929), 'RetrievalRPrecision@1': tensor(0.3929), 'RetrievalRecall@1': tensor(0.3857), 'RetrievalPrecision@1': tensor(0.3929), 'RetrievalMRR@1': tensor(0.5177), 'RetrievalMAP@1': tensor(0.5177), 'RetrievalHitRate@5': tensor(0.6714), 'RetrievalRPrecision@5': tensor(0.3929), 'RetrievalRecall@5': tensor(0.6714), 'RetrievalPrecision@5': tensor(0.1371), 'RetrievalMRR@5': tensor(0.5177), 'RetrievalMAP@5': tensor(0.5177), 'RetrievalHitRate@10': tensor(0.7286), 'RetrievalRPrecision@10': tensor(0.3929), 'RetrievalRecall@10': tensor(0.7286), 'RetrievalPrecision@10': tensor(0.0743), 'RetrievalMRR@10': tensor(0.5177), 'RetrievalMAP@10': tensor(0.5177)}\n",
      "149\n",
      "{'RetrievalHitRate@1': tensor(0.4000), 'RetrievalRPrecision@1': tensor(0.3967), 'RetrievalRecall@1': tensor(0.3900), 'RetrievalPrecision@1': tensor(0.4000), 'RetrievalMRR@1': tensor(0.5222), 'RetrievalMAP@1': tensor(0.5202), 'RetrievalHitRate@5': tensor(0.6733), 'RetrievalRPrecision@5': tensor(0.3967), 'RetrievalRecall@5': tensor(0.6733), 'RetrievalPrecision@5': tensor(0.1387), 'RetrievalMRR@5': tensor(0.5222), 'RetrievalMAP@5': tensor(0.5202), 'RetrievalHitRate@10': tensor(0.7267), 'RetrievalRPrecision@10': tensor(0.3967), 'RetrievalRecall@10': tensor(0.7267), 'RetrievalPrecision@10': tensor(0.0747), 'RetrievalMRR@10': tensor(0.5222), 'RetrievalMAP@10': tensor(0.5202)}\n",
      "159\n",
      "{'RetrievalHitRate@1': tensor(0.3938), 'RetrievalRPrecision@1': tensor(0.3906), 'RetrievalRecall@1': tensor(0.3844), 'RetrievalPrecision@1': tensor(0.3938), 'RetrievalMRR@1': tensor(0.5247), 'RetrievalMAP@1': tensor(0.5228), 'RetrievalHitRate@5': tensor(0.6875), 'RetrievalRPrecision@5': tensor(0.3906), 'RetrievalRecall@5': tensor(0.6875), 'RetrievalPrecision@5': tensor(0.1412), 'RetrievalMRR@5': tensor(0.5247), 'RetrievalMAP@5': tensor(0.5228), 'RetrievalHitRate@10': tensor(0.7437), 'RetrievalRPrecision@10': tensor(0.3906), 'RetrievalRecall@10': tensor(0.7437), 'RetrievalPrecision@10': tensor(0.0763), 'RetrievalMRR@10': tensor(0.5247), 'RetrievalMAP@10': tensor(0.5228)}\n",
      "169\n",
      "{'RetrievalHitRate@1': tensor(0.3882), 'RetrievalRPrecision@1': tensor(0.3853), 'RetrievalRecall@1': tensor(0.3794), 'RetrievalPrecision@1': tensor(0.3882), 'RetrievalMRR@1': tensor(0.5197), 'RetrievalMAP@1': tensor(0.5180), 'RetrievalHitRate@5': tensor(0.6824), 'RetrievalRPrecision@5': tensor(0.3853), 'RetrievalRecall@5': tensor(0.6824), 'RetrievalPrecision@5': tensor(0.1400), 'RetrievalMRR@5': tensor(0.5197), 'RetrievalMAP@5': tensor(0.5180), 'RetrievalHitRate@10': tensor(0.7353), 'RetrievalRPrecision@10': tensor(0.3853), 'RetrievalRecall@10': tensor(0.7353), 'RetrievalPrecision@10': tensor(0.0753), 'RetrievalMRR@10': tensor(0.5197), 'RetrievalMAP@10': tensor(0.5180)}\n",
      "179\n",
      "{'RetrievalHitRate@1': tensor(0.3778), 'RetrievalRPrecision@1': tensor(0.3750), 'RetrievalRecall@1': tensor(0.3694), 'RetrievalPrecision@1': tensor(0.3778), 'RetrievalMRR@1': tensor(0.5083), 'RetrievalMAP@1': tensor(0.5066), 'RetrievalHitRate@5': tensor(0.6667), 'RetrievalRPrecision@5': tensor(0.3750), 'RetrievalRecall@5': tensor(0.6667), 'RetrievalPrecision@5': tensor(0.1367), 'RetrievalMRR@5': tensor(0.5083), 'RetrievalMAP@5': tensor(0.5066), 'RetrievalHitRate@10': tensor(0.7167), 'RetrievalRPrecision@10': tensor(0.3750), 'RetrievalRecall@10': tensor(0.7167), 'RetrievalPrecision@10': tensor(0.0733), 'RetrievalMRR@10': tensor(0.5083), 'RetrievalMAP@10': tensor(0.5066)}\n",
      "189\n",
      "{'RetrievalHitRate@1': tensor(0.3684), 'RetrievalRPrecision@1': tensor(0.3658), 'RetrievalRecall@1': tensor(0.3605), 'RetrievalPrecision@1': tensor(0.3684), 'RetrievalMRR@1': tensor(0.5001), 'RetrievalMAP@1': tensor(0.4986), 'RetrievalHitRate@5': tensor(0.6632), 'RetrievalRPrecision@5': tensor(0.3658), 'RetrievalRecall@5': tensor(0.6632), 'RetrievalPrecision@5': tensor(0.1358), 'RetrievalMRR@5': tensor(0.5001), 'RetrievalMAP@5': tensor(0.4986), 'RetrievalHitRate@10': tensor(0.7105), 'RetrievalRPrecision@10': tensor(0.3658), 'RetrievalRecall@10': tensor(0.7105), 'RetrievalPrecision@10': tensor(0.0726), 'RetrievalMRR@10': tensor(0.5001), 'RetrievalMAP@10': tensor(0.4986)}\n",
      "199\n",
      "{'RetrievalHitRate@1': tensor(0.3650), 'RetrievalRPrecision@1': tensor(0.3625), 'RetrievalRecall@1': tensor(0.3575), 'RetrievalPrecision@1': tensor(0.3650), 'RetrievalMRR@1': tensor(0.4955), 'RetrievalMAP@1': tensor(0.4940), 'RetrievalHitRate@5': tensor(0.6600), 'RetrievalRPrecision@5': tensor(0.3625), 'RetrievalRecall@5': tensor(0.6600), 'RetrievalPrecision@5': tensor(0.1350), 'RetrievalMRR@5': tensor(0.4955), 'RetrievalMAP@5': tensor(0.4940), 'RetrievalHitRate@10': tensor(0.7050), 'RetrievalRPrecision@10': tensor(0.3625), 'RetrievalRecall@10': tensor(0.7050), 'RetrievalPrecision@10': tensor(0.0720), 'RetrievalMRR@10': tensor(0.4955), 'RetrievalMAP@10': tensor(0.4940)}\n",
      "209\n",
      "{'RetrievalHitRate@1': tensor(0.3762), 'RetrievalRPrecision@1': tensor(0.3738), 'RetrievalRecall@1': tensor(0.3690), 'RetrievalPrecision@1': tensor(0.3762), 'RetrievalMRR@1': tensor(0.5014), 'RetrievalMAP@1': tensor(0.5000), 'RetrievalHitRate@5': tensor(0.6619), 'RetrievalRPrecision@5': tensor(0.3738), 'RetrievalRecall@5': tensor(0.6619), 'RetrievalPrecision@5': tensor(0.1352), 'RetrievalMRR@5': tensor(0.5014), 'RetrievalMAP@5': tensor(0.5000), 'RetrievalHitRate@10': tensor(0.7048), 'RetrievalRPrecision@10': tensor(0.3738), 'RetrievalRecall@10': tensor(0.7048), 'RetrievalPrecision@10': tensor(0.0719), 'RetrievalMRR@10': tensor(0.5014), 'RetrievalMAP@10': tensor(0.5000)}\n",
      "219\n",
      "{'RetrievalHitRate@1': tensor(0.3773), 'RetrievalRPrecision@1': tensor(0.3750), 'RetrievalRecall@1': tensor(0.3705), 'RetrievalPrecision@1': tensor(0.3773), 'RetrievalMRR@1': tensor(0.5040), 'RetrievalMAP@1': tensor(0.5026), 'RetrievalHitRate@5': tensor(0.6636), 'RetrievalRPrecision@5': tensor(0.3750), 'RetrievalRecall@5': tensor(0.6636), 'RetrievalPrecision@5': tensor(0.1355), 'RetrievalMRR@5': tensor(0.5040), 'RetrievalMAP@5': tensor(0.5026), 'RetrievalHitRate@10': tensor(0.7045), 'RetrievalRPrecision@10': tensor(0.3750), 'RetrievalRecall@10': tensor(0.7045), 'RetrievalPrecision@10': tensor(0.0718), 'RetrievalMRR@10': tensor(0.5040), 'RetrievalMAP@10': tensor(0.5026)}\n",
      "229\n",
      "{'RetrievalHitRate@1': tensor(0.3913), 'RetrievalRPrecision@1': tensor(0.3891), 'RetrievalRecall@1': tensor(0.3848), 'RetrievalPrecision@1': tensor(0.3913), 'RetrievalMRR@1': tensor(0.5161), 'RetrievalMAP@1': tensor(0.5148), 'RetrievalHitRate@5': tensor(0.6739), 'RetrievalRPrecision@5': tensor(0.3891), 'RetrievalRecall@5': tensor(0.6739), 'RetrievalPrecision@5': tensor(0.1374), 'RetrievalMRR@5': tensor(0.5161), 'RetrievalMAP@5': tensor(0.5148), 'RetrievalHitRate@10': tensor(0.7130), 'RetrievalRPrecision@10': tensor(0.3891), 'RetrievalRecall@10': tensor(0.7130), 'RetrievalPrecision@10': tensor(0.0726), 'RetrievalMRR@10': tensor(0.5161), 'RetrievalMAP@10': tensor(0.5148)}\n",
      "239\n",
      "{'RetrievalHitRate@1': tensor(0.3792), 'RetrievalRPrecision@1': tensor(0.3771), 'RetrievalRecall@1': tensor(0.3729), 'RetrievalPrecision@1': tensor(0.3792), 'RetrievalMRR@1': tensor(0.5064), 'RetrievalMAP@1': tensor(0.5051), 'RetrievalHitRate@5': tensor(0.6667), 'RetrievalRPrecision@5': tensor(0.3771), 'RetrievalRecall@5': tensor(0.6667), 'RetrievalPrecision@5': tensor(0.1358), 'RetrievalMRR@5': tensor(0.5064), 'RetrievalMAP@5': tensor(0.5051), 'RetrievalHitRate@10': tensor(0.7042), 'RetrievalRPrecision@10': tensor(0.3771), 'RetrievalRecall@10': tensor(0.7042), 'RetrievalPrecision@10': tensor(0.0717), 'RetrievalMRR@10': tensor(0.5064), 'RetrievalMAP@10': tensor(0.5051)}\n",
      "249\n",
      "{'RetrievalHitRate@1': tensor(0.3800), 'RetrievalRPrecision@1': tensor(0.3780), 'RetrievalRecall@1': tensor(0.3740), 'RetrievalPrecision@1': tensor(0.3800), 'RetrievalMRR@1': tensor(0.5066), 'RetrievalMAP@1': tensor(0.5054), 'RetrievalHitRate@5': tensor(0.6680), 'RetrievalRPrecision@5': tensor(0.3780), 'RetrievalRecall@5': tensor(0.6680), 'RetrievalPrecision@5': tensor(0.1360), 'RetrievalMRR@5': tensor(0.5066), 'RetrievalMAP@5': tensor(0.5054), 'RetrievalHitRate@10': tensor(0.7040), 'RetrievalRPrecision@10': tensor(0.3780), 'RetrievalRecall@10': tensor(0.7040), 'RetrievalPrecision@10': tensor(0.0716), 'RetrievalMRR@10': tensor(0.5066), 'RetrievalMAP@10': tensor(0.5054)}\n",
      "259\n",
      "{'RetrievalHitRate@1': tensor(0.3846), 'RetrievalRPrecision@1': tensor(0.3827), 'RetrievalRecall@1': tensor(0.3788), 'RetrievalPrecision@1': tensor(0.3846), 'RetrievalMRR@1': tensor(0.5098), 'RetrievalMAP@1': tensor(0.5086), 'RetrievalHitRate@5': tensor(0.6692), 'RetrievalRPrecision@5': tensor(0.3827), 'RetrievalRecall@5': tensor(0.6692), 'RetrievalPrecision@5': tensor(0.1362), 'RetrievalMRR@5': tensor(0.5098), 'RetrievalMAP@5': tensor(0.5086), 'RetrievalHitRate@10': tensor(0.7038), 'RetrievalRPrecision@10': tensor(0.3827), 'RetrievalRecall@10': tensor(0.7038), 'RetrievalPrecision@10': tensor(0.0715), 'RetrievalMRR@10': tensor(0.5098), 'RetrievalMAP@10': tensor(0.5086)}\n",
      "269\n",
      "{'RetrievalHitRate@1': tensor(0.3852), 'RetrievalRPrecision@1': tensor(0.3833), 'RetrievalRecall@1': tensor(0.3796), 'RetrievalPrecision@1': tensor(0.3852), 'RetrievalMRR@1': tensor(0.5079), 'RetrievalMAP@1': tensor(0.5068), 'RetrievalHitRate@5': tensor(0.6667), 'RetrievalRPrecision@5': tensor(0.3833), 'RetrievalRecall@5': tensor(0.6667), 'RetrievalPrecision@5': tensor(0.1356), 'RetrievalMRR@5': tensor(0.5079), 'RetrievalMAP@5': tensor(0.5068), 'RetrievalHitRate@10': tensor(0.7000), 'RetrievalRPrecision@10': tensor(0.3833), 'RetrievalRecall@10': tensor(0.7000), 'RetrievalPrecision@10': tensor(0.0711), 'RetrievalMRR@10': tensor(0.5079), 'RetrievalMAP@10': tensor(0.5068)}\n"
     ]
    },
    {
     "ename": "TypeError",
     "evalue": "'NoneType' object is not subscriptable",
     "output_type": "error",
     "traceback": [
      "\u001b[0;31m---------------------------------------------------------------------------\u001b[0m",
      "\u001b[0;31mTypeError\u001b[0m                                 Traceback (most recent call last)",
      "Input \u001b[0;32mIn [12]\u001b[0m, in \u001b[0;36m<cell line: 10>\u001b[0;34m()\u001b[0m\n\u001b[1;32m     11\u001b[0m linearized_table \u001b[38;5;241m=\u001b[39m linearize(row[\u001b[38;5;124m\"\u001b[39m\u001b[38;5;124mtable\u001b[39m\u001b[38;5;124m\"\u001b[39m])\n\u001b[1;32m     12\u001b[0m page \u001b[38;5;241m=\u001b[39m ks\u001b[38;5;241m.\u001b[39mget_page_by_title(row[\u001b[38;5;124m\"\u001b[39m\u001b[38;5;124mtable_page_title\u001b[39m\u001b[38;5;124m\"\u001b[39m])\n\u001b[0;32m---> 14\u001b[0m \u001b[38;5;28;01mfor\u001b[39;00m passage \u001b[38;5;129;01min\u001b[39;00m \u001b[43mpage\u001b[49m\u001b[43m[\u001b[49m\u001b[38;5;124;43m\"\u001b[39;49m\u001b[38;5;124;43mtext\u001b[39;49m\u001b[38;5;124;43m\"\u001b[39;49m\u001b[43m]\u001b[49m:\n\u001b[1;32m     15\u001b[0m     \u001b[38;5;28;01mfor\u001b[39;00m sent \u001b[38;5;129;01min\u001b[39;00m text_to_sentences(passage)\u001b[38;5;241m.\u001b[39msplit(\u001b[38;5;124m\"\u001b[39m\u001b[38;5;130;01m\\n\u001b[39;00m\u001b[38;5;124m\"\u001b[39m):\n\u001b[1;32m     16\u001b[0m         gold \u001b[38;5;241m=\u001b[39m jaro\u001b[38;5;241m.\u001b[39mjaro_winkler_metric(sent, row[\u001b[38;5;124m\"\u001b[39m\u001b[38;5;124msentence\u001b[39m\u001b[38;5;124m\"\u001b[39m]) \u001b[38;5;241m>\u001b[39m \u001b[38;5;241m0.9\u001b[39m\n",
      "\u001b[0;31mTypeError\u001b[0m: 'NoneType' object is not subscriptable"
     ]
    }
   ],
   "source": [
    "from blingfire import text_to_sentences\n",
    "\n",
    "golds = []\n",
    "indices = []\n",
    "preds = []\n",
    "\n",
    "k2metrics = {k: [RetrievalHitRate(k=k), RetrievalRPrecision(k=k), RetrievalRecall(k=k), RetrievalPrecision(k=k), RetrievalMRR(k=k), RetrievalMAP(k=k)] for k in [1, 5, 10]}\n",
    "\n",
    "\n",
    "for idx, row in df.iterrows():\n",
    "    linearized_table = linearize(row[\"table\"])\n",
    "    page = ks.get_page_by_title(row[\"table_page_title\"])\n",
    "    \n",
    "    for passage in page[\"text\"]:\n",
    "        for sent in text_to_sentences(passage).split(\"\\n\"):\n",
    "            gold = jaro.jaro_winkler_metric(sent, row[\"sentence\"]) > 0.9\n",
    "            indices.append(idx)\n",
    "            golds.append(gold)\n",
    "            preds.append(check_select(linearized_table, sent))\n",
    "            # print(sent, row[\"sentence\"], jaro.jaro_winkler_metric(sent, row[\"sentence\"]), preds[-1])\n",
    "            \n",
    "    if (idx + 1) % 10 == 0:\n",
    "        print(idx)\n",
    "\n",
    "        preds_tensor = torch.tensor(preds)\n",
    "        golds_tensor = torch.tensor(golds)\n",
    "        indices_tensor = torch.tensor(indices)\n",
    "\n",
    "        for k, metrics in k2metrics.items():\n",
    "            for metric in metrics:\n",
    "                result[f\"{metric.__class__.__name__}@{k}\"] = metric(preds_tensor, golds_tensor, indices_tensor)\n",
    "        print(result)\n"
   ]
  },
  {
   "cell_type": "code",
   "execution_count": 7,
   "id": "2cb6feed-6d3c-4990-b185-d3f32d5b180a",
   "metadata": {},
   "outputs": [],
   "source": [
    "from read.utils.table import linearize\n",
    "from torchmetrics import RetrievalHitRate, RetrievalRPrecision, RetrievalRecall, RetrievalPrecision, RetrievalMRR, RetrievalMAP\n",
    "\n",
    "\n",
    "k2metrics = {k: [RetrievalHitRate(k=k), RetrievalRPrecision(k=k), RetrievalRecall(k=k), RetrievalPrecision(k=k), RetrievalMRR(k=k), RetrievalMAP(k=k)] for k in [1, 5, 10]}\n",
    "\n",
    "import torch\n",
    "\n",
    "result = {}\n",
    "\n",
    "preds = torch.tensor(preds)\n",
    "golds = torch.tensor(golds)\n",
    "indices = torch.tensor(indices)\n",
    "\n",
    "for k, metrics in k2metrics.items():\n",
    "    for metric in metrics:\n",
    "        result[f\"{metric.__class__.__name__}@{k}\"] = metric(preds, golds, indices)"
   ]
  },
  {
   "cell_type": "code",
   "execution_count": 8,
   "id": "59b07fbc-b3d6-47b6-a776-28e138c6950b",
   "metadata": {},
   "outputs": [
    {
     "data": {
      "text/plain": [
       "{'RetrievalHitRate@1': tensor(0.4200),\n",
       " 'RetrievalRPrecision@1': tensor(0.4200),\n",
       " 'RetrievalRecall@1': tensor(0.4100),\n",
       " 'RetrievalPrecision@1': tensor(0.4200),\n",
       " 'RetrievalMRR@1': tensor(0.5083),\n",
       " 'RetrievalMAP@1': tensor(0.5083),\n",
       " 'RetrievalHitRate@5': tensor(0.6200),\n",
       " 'RetrievalRPrecision@5': tensor(0.4200),\n",
       " 'RetrievalRecall@5': tensor(0.6200),\n",
       " 'RetrievalPrecision@5': tensor(0.1280),\n",
       " 'RetrievalMRR@5': tensor(0.5083),\n",
       " 'RetrievalMAP@5': tensor(0.5083),\n",
       " 'RetrievalHitRate@10': tensor(0.7000),\n",
       " 'RetrievalRPrecision@10': tensor(0.4200),\n",
       " 'RetrievalRecall@10': tensor(0.7000),\n",
       " 'RetrievalPrecision@10': tensor(0.0720),\n",
       " 'RetrievalMRR@10': tensor(0.5083),\n",
       " 'RetrievalMAP@10': tensor(0.5083)}"
      ]
     },
     "execution_count": 8,
     "metadata": {},
     "output_type": "execute_result"
    }
   ],
   "source": [
    "result"
   ]
  },
  {
   "cell_type": "code",
   "execution_count": 4,
   "id": "ca68b433-87bf-4dc3-8ce7-51d4f2be89c6",
   "metadata": {},
   "outputs": [],
   "source": [
    "from pymongo import MongoClient\n",
    " \n",
    " \n",
    "Client = MongoClient()\n",
    "myclient = MongoClient('localhost', 27017)"
   ]
  },
  {
   "cell_type": "code",
   "execution_count": 22,
   "id": "fda18e10-febb-47f3-ae69-7dbeabe8443a",
   "metadata": {},
   "outputs": [
    {
     "ename": "ValueError",
     "evalue": "'session' argument must be a ClientSession or None.",
     "output_type": "error",
     "traceback": [
      "\u001b[0;31m---------------------------------------------------------------------------\u001b[0m",
      "\u001b[0;31mValueError\u001b[0m                                Traceback (most recent call last)",
      "Input \u001b[0;32mIn [22]\u001b[0m, in \u001b[0;36m<module>\u001b[0;34m\u001b[0m\n\u001b[0;32m----> 1\u001b[0m \u001b[43mmyclient\u001b[49m\u001b[43m[\u001b[49m\u001b[38;5;124;43m\"\u001b[39;49m\u001b[38;5;124;43mkilt\u001b[39;49m\u001b[38;5;124;43m\"\u001b[39;49m\u001b[43m]\u001b[49m\u001b[38;5;241;43m.\u001b[39;49m\u001b[43mlist_collection_names\u001b[49m\u001b[43m(\u001b[49m\u001b[43m{\u001b[49m\u001b[43m}\u001b[49m\u001b[43m)\u001b[49m\n",
      "File \u001b[0;32m/opt/conda/lib/python3.8/site-packages/pymongo/database.py:953\u001b[0m, in \u001b[0;36mDatabase.list_collection_names\u001b[0;34m(self, session, filter, comment, **kwargs)\u001b[0m\n\u001b[1;32m    950\u001b[0m     \u001b[38;5;28;01mif\u001b[39;00m \u001b[38;5;129;01mnot\u001b[39;00m \u001b[38;5;28mfilter\u001b[39m \u001b[38;5;129;01mor\u001b[39;00m (\u001b[38;5;28mlen\u001b[39m(\u001b[38;5;28mfilter\u001b[39m) \u001b[38;5;241m==\u001b[39m \u001b[38;5;241m1\u001b[39m \u001b[38;5;129;01mand\u001b[39;00m \u001b[38;5;124m\"\u001b[39m\u001b[38;5;124mname\u001b[39m\u001b[38;5;124m\"\u001b[39m \u001b[38;5;129;01min\u001b[39;00m \u001b[38;5;28mfilter\u001b[39m):\n\u001b[1;32m    951\u001b[0m         kwargs[\u001b[38;5;124m\"\u001b[39m\u001b[38;5;124mnameOnly\u001b[39m\u001b[38;5;124m\"\u001b[39m] \u001b[38;5;241m=\u001b[39m \u001b[38;5;28;01mTrue\u001b[39;00m\n\u001b[0;32m--> 953\u001b[0m \u001b[38;5;28;01mreturn\u001b[39;00m [result[\u001b[38;5;124m\"\u001b[39m\u001b[38;5;124mname\u001b[39m\u001b[38;5;124m\"\u001b[39m] \u001b[38;5;28;01mfor\u001b[39;00m result \u001b[38;5;129;01min\u001b[39;00m \u001b[38;5;28;43mself\u001b[39;49m\u001b[38;5;241;43m.\u001b[39;49m\u001b[43mlist_collections\u001b[49m\u001b[43m(\u001b[49m\u001b[43msession\u001b[49m\u001b[38;5;241;43m=\u001b[39;49m\u001b[43msession\u001b[49m\u001b[43m,\u001b[49m\u001b[43m \u001b[49m\u001b[38;5;241;43m*\u001b[39;49m\u001b[38;5;241;43m*\u001b[39;49m\u001b[43mkwargs\u001b[49m\u001b[43m)\u001b[49m]\n",
      "File \u001b[0;32m/opt/conda/lib/python3.8/site-packages/pymongo/database.py:905\u001b[0m, in \u001b[0;36mDatabase.list_collections\u001b[0;34m(self, session, filter, comment, **kwargs)\u001b[0m\n\u001b[1;32m    900\u001b[0m \u001b[38;5;28;01mdef\u001b[39;00m \u001b[38;5;21m_cmd\u001b[39m(session, server, sock_info, read_preference):\n\u001b[1;32m    901\u001b[0m     \u001b[38;5;28;01mreturn\u001b[39;00m \u001b[38;5;28mself\u001b[39m\u001b[38;5;241m.\u001b[39m_list_collections(\n\u001b[1;32m    902\u001b[0m         sock_info, session, read_preference\u001b[38;5;241m=\u001b[39mread_preference, \u001b[38;5;241m*\u001b[39m\u001b[38;5;241m*\u001b[39mkwargs\n\u001b[1;32m    903\u001b[0m     )\n\u001b[0;32m--> 905\u001b[0m \u001b[38;5;28;01mreturn\u001b[39;00m \u001b[38;5;28;43mself\u001b[39;49m\u001b[38;5;241;43m.\u001b[39;49m\u001b[43m__client\u001b[49m\u001b[38;5;241;43m.\u001b[39;49m\u001b[43m_retryable_read\u001b[49m\u001b[43m(\u001b[49m\u001b[43m_cmd\u001b[49m\u001b[43m,\u001b[49m\u001b[43m \u001b[49m\u001b[43mread_pref\u001b[49m\u001b[43m,\u001b[49m\u001b[43m \u001b[49m\u001b[43msession\u001b[49m\u001b[43m)\u001b[49m\n",
      "File \u001b[0;32m/opt/conda/lib/python3.8/site-packages/pymongo/_csot.py:105\u001b[0m, in \u001b[0;36mapply.<locals>.csot_wrapper\u001b[0;34m(self, *args, **kwargs)\u001b[0m\n\u001b[1;32m    103\u001b[0m         \u001b[38;5;28;01mwith\u001b[39;00m _TimeoutContext(timeout):\n\u001b[1;32m    104\u001b[0m             \u001b[38;5;28;01mreturn\u001b[39;00m func(\u001b[38;5;28mself\u001b[39m, \u001b[38;5;241m*\u001b[39margs, \u001b[38;5;241m*\u001b[39m\u001b[38;5;241m*\u001b[39mkwargs)\n\u001b[0;32m--> 105\u001b[0m \u001b[38;5;28;01mreturn\u001b[39;00m \u001b[43mfunc\u001b[49m\u001b[43m(\u001b[49m\u001b[38;5;28;43mself\u001b[39;49m\u001b[43m,\u001b[49m\u001b[43m \u001b[49m\u001b[38;5;241;43m*\u001b[39;49m\u001b[43margs\u001b[49m\u001b[43m,\u001b[49m\u001b[43m \u001b[49m\u001b[38;5;241;43m*\u001b[39;49m\u001b[38;5;241;43m*\u001b[39;49m\u001b[43mkwargs\u001b[49m\u001b[43m)\u001b[49m\n",
      "File \u001b[0;32m/opt/conda/lib/python3.8/site-packages/pymongo/mongo_client.py:1420\u001b[0m, in \u001b[0;36mMongoClient._retryable_read\u001b[0;34m(self, func, read_pref, session, address, retryable)\u001b[0m\n\u001b[1;32m   1418\u001b[0m             \u001b[38;5;28;01massert\u001b[39;00m last_error \u001b[38;5;129;01mis\u001b[39;00m \u001b[38;5;129;01mnot\u001b[39;00m \u001b[38;5;28;01mNone\u001b[39;00m\n\u001b[1;32m   1419\u001b[0m             \u001b[38;5;28;01mraise\u001b[39;00m last_error\n\u001b[0;32m-> 1420\u001b[0m         \u001b[38;5;28;01mreturn\u001b[39;00m \u001b[43mfunc\u001b[49m\u001b[43m(\u001b[49m\u001b[43msession\u001b[49m\u001b[43m,\u001b[49m\u001b[43m \u001b[49m\u001b[43mserver\u001b[49m\u001b[43m,\u001b[49m\u001b[43m \u001b[49m\u001b[43msock_info\u001b[49m\u001b[43m,\u001b[49m\u001b[43m \u001b[49m\u001b[43mread_pref\u001b[49m\u001b[43m)\u001b[49m\n\u001b[1;32m   1421\u001b[0m \u001b[38;5;28;01mexcept\u001b[39;00m ServerSelectionTimeoutError:\n\u001b[1;32m   1422\u001b[0m     \u001b[38;5;28;01mif\u001b[39;00m retrying:\n\u001b[1;32m   1423\u001b[0m         \u001b[38;5;66;03m# The application may think the write was never attempted\u001b[39;00m\n\u001b[1;32m   1424\u001b[0m         \u001b[38;5;66;03m# if we raise ServerSelectionTimeoutError on the retry\u001b[39;00m\n\u001b[1;32m   1425\u001b[0m         \u001b[38;5;66;03m# attempt. Raise the original exception instead.\u001b[39;00m\n",
      "File \u001b[0;32m/opt/conda/lib/python3.8/site-packages/pymongo/database.py:901\u001b[0m, in \u001b[0;36mDatabase.list_collections.<locals>._cmd\u001b[0;34m(session, server, sock_info, read_preference)\u001b[0m\n\u001b[1;32m    900\u001b[0m \u001b[38;5;28;01mdef\u001b[39;00m \u001b[38;5;21m_cmd\u001b[39m(session, server, sock_info, read_preference):\n\u001b[0;32m--> 901\u001b[0m     \u001b[38;5;28;01mreturn\u001b[39;00m \u001b[38;5;28;43mself\u001b[39;49m\u001b[38;5;241;43m.\u001b[39;49m\u001b[43m_list_collections\u001b[49m\u001b[43m(\u001b[49m\n\u001b[1;32m    902\u001b[0m \u001b[43m        \u001b[49m\u001b[43msock_info\u001b[49m\u001b[43m,\u001b[49m\u001b[43m \u001b[49m\u001b[43msession\u001b[49m\u001b[43m,\u001b[49m\u001b[43m \u001b[49m\u001b[43mread_preference\u001b[49m\u001b[38;5;241;43m=\u001b[39;49m\u001b[43mread_preference\u001b[49m\u001b[43m,\u001b[49m\u001b[43m \u001b[49m\u001b[38;5;241;43m*\u001b[39;49m\u001b[38;5;241;43m*\u001b[39;49m\u001b[43mkwargs\u001b[49m\n\u001b[1;32m    903\u001b[0m \u001b[43m    \u001b[49m\u001b[43m)\u001b[49m\n",
      "File \u001b[0;32m/opt/conda/lib/python3.8/site-packages/pymongo/database.py:851\u001b[0m, in \u001b[0;36mDatabase._list_collections\u001b[0;34m(self, sock_info, session, read_preference, **kwargs)\u001b[0m\n\u001b[1;32m    849\u001b[0m cmd \u001b[38;5;241m=\u001b[39m SON([(\u001b[38;5;124m\"\u001b[39m\u001b[38;5;124mlistCollections\u001b[39m\u001b[38;5;124m\"\u001b[39m, \u001b[38;5;241m1\u001b[39m), (\u001b[38;5;124m\"\u001b[39m\u001b[38;5;124mcursor\u001b[39m\u001b[38;5;124m\"\u001b[39m, {})])\n\u001b[1;32m    850\u001b[0m cmd\u001b[38;5;241m.\u001b[39mupdate(kwargs)\n\u001b[0;32m--> 851\u001b[0m \u001b[38;5;28;01mwith\u001b[39;00m \u001b[38;5;28mself\u001b[39m\u001b[38;5;241m.\u001b[39m__client\u001b[38;5;241m.\u001b[39m_tmp_session(session, close\u001b[38;5;241m=\u001b[39m\u001b[38;5;28;01mFalse\u001b[39;00m) \u001b[38;5;28;01mas\u001b[39;00m tmp_session:\n\u001b[1;32m    852\u001b[0m     cursor \u001b[38;5;241m=\u001b[39m \u001b[38;5;28mself\u001b[39m\u001b[38;5;241m.\u001b[39m_command(\n\u001b[1;32m    853\u001b[0m         sock_info, cmd, read_preference\u001b[38;5;241m=\u001b[39mread_preference, session\u001b[38;5;241m=\u001b[39mtmp_session\n\u001b[1;32m    854\u001b[0m     )[\u001b[38;5;124m\"\u001b[39m\u001b[38;5;124mcursor\u001b[39m\u001b[38;5;124m\"\u001b[39m]\n\u001b[1;32m    855\u001b[0m     cmd_cursor \u001b[38;5;241m=\u001b[39m CommandCursor(\n\u001b[1;32m    856\u001b[0m         coll,\n\u001b[1;32m    857\u001b[0m         cursor,\n\u001b[0;32m   (...)\u001b[0m\n\u001b[1;32m    861\u001b[0m         comment\u001b[38;5;241m=\u001b[39mcmd\u001b[38;5;241m.\u001b[39mget(\u001b[38;5;124m\"\u001b[39m\u001b[38;5;124mcomment\u001b[39m\u001b[38;5;124m\"\u001b[39m),\n\u001b[1;32m    862\u001b[0m     )\n",
      "File \u001b[0;32m/opt/conda/lib/python3.8/contextlib.py:113\u001b[0m, in \u001b[0;36m_GeneratorContextManager.__enter__\u001b[0;34m(self)\u001b[0m\n\u001b[1;32m    111\u001b[0m \u001b[38;5;28;01mdel\u001b[39;00m \u001b[38;5;28mself\u001b[39m\u001b[38;5;241m.\u001b[39margs, \u001b[38;5;28mself\u001b[39m\u001b[38;5;241m.\u001b[39mkwds, \u001b[38;5;28mself\u001b[39m\u001b[38;5;241m.\u001b[39mfunc\n\u001b[1;32m    112\u001b[0m \u001b[38;5;28;01mtry\u001b[39;00m:\n\u001b[0;32m--> 113\u001b[0m     \u001b[38;5;28;01mreturn\u001b[39;00m \u001b[38;5;28;43mnext\u001b[39;49m\u001b[43m(\u001b[49m\u001b[38;5;28;43mself\u001b[39;49m\u001b[38;5;241;43m.\u001b[39;49m\u001b[43mgen\u001b[49m\u001b[43m)\u001b[49m\n\u001b[1;32m    114\u001b[0m \u001b[38;5;28;01mexcept\u001b[39;00m \u001b[38;5;167;01mStopIteration\u001b[39;00m:\n\u001b[1;32m    115\u001b[0m     \u001b[38;5;28;01mraise\u001b[39;00m \u001b[38;5;167;01mRuntimeError\u001b[39;00m(\u001b[38;5;124m\"\u001b[39m\u001b[38;5;124mgenerator didn\u001b[39m\u001b[38;5;124m'\u001b[39m\u001b[38;5;124mt yield\u001b[39m\u001b[38;5;124m\"\u001b[39m) \u001b[38;5;28;01mfrom\u001b[39;00m \u001b[38;5;28mNone\u001b[39m\n",
      "File \u001b[0;32m/opt/conda/lib/python3.8/site-packages/pymongo/mongo_client.py:1724\u001b[0m, in \u001b[0;36mMongoClient._tmp_session\u001b[0;34m(self, session, close)\u001b[0m\n\u001b[1;32m   1722\u001b[0m \u001b[38;5;28;01mif\u001b[39;00m session \u001b[38;5;129;01mis\u001b[39;00m \u001b[38;5;129;01mnot\u001b[39;00m \u001b[38;5;28;01mNone\u001b[39;00m:\n\u001b[1;32m   1723\u001b[0m     \u001b[38;5;28;01mif\u001b[39;00m \u001b[38;5;129;01mnot\u001b[39;00m \u001b[38;5;28misinstance\u001b[39m(session, client_session\u001b[38;5;241m.\u001b[39mClientSession):\n\u001b[0;32m-> 1724\u001b[0m         \u001b[38;5;28;01mraise\u001b[39;00m \u001b[38;5;167;01mValueError\u001b[39;00m(\u001b[38;5;124m\"\u001b[39m\u001b[38;5;124m'\u001b[39m\u001b[38;5;124msession\u001b[39m\u001b[38;5;124m'\u001b[39m\u001b[38;5;124m argument must be a ClientSession or None.\u001b[39m\u001b[38;5;124m\"\u001b[39m)\n\u001b[1;32m   1725\u001b[0m     \u001b[38;5;66;03m# Don't call end_session.\u001b[39;00m\n\u001b[1;32m   1726\u001b[0m     \u001b[38;5;28;01myield\u001b[39;00m session\n",
      "\u001b[0;31mValueError\u001b[0m: 'session' argument must be a ClientSession or None."
     ]
    }
   ],
   "source": [
    "myclient[\"kilt\"].list_collection_names({})"
   ]
  },
  {
   "cell_type": "code",
   "execution_count": 23,
   "id": "25e066fe-3096-4eeb-83c9-ed4f2d398a52",
   "metadata": {},
   "outputs": [
    {
     "data": {
      "text/plain": [
       "5903530"
      ]
     },
     "execution_count": 23,
     "metadata": {},
     "output_type": "execute_result"
    }
   ],
   "source": [
    "myclient[\"kilt\"][\"knowledgesource\"].count_documents({})"
   ]
  },
  {
   "cell_type": "code",
   "execution_count": null,
   "id": "d4363ec2-7abb-476a-9547-df01081fe3ea",
   "metadata": {},
   "outputs": [],
   "source": []
  }
 ],
 "metadata": {
  "kernelspec": {
   "display_name": "Python 3 (ipykernel)",
   "language": "python",
   "name": "python3"
  },
  "language_info": {
   "codemirror_mode": {
    "name": "ipython",
    "version": 3
   },
   "file_extension": ".py",
   "mimetype": "text/x-python",
   "name": "python",
   "nbconvert_exporter": "python",
   "pygments_lexer": "ipython3",
   "version": "3.8.12"
  }
 },
 "nbformat": 4,
 "nbformat_minor": 5
}
