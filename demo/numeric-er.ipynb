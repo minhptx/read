{
 "cells": [
  {
   "cell_type": "code",
   "execution_count": 3,
   "id": "1e554e84-5374-48a8-94ba-f76d8a3b34b7",
   "metadata": {},
   "outputs": [],
   "source": [
    "import pandas as pd\n",
    "\n",
    "df = pd.read_json(\"../data/totto2/filtered/train.jsonl\", lines=True)"
   ]
  },
  {
   "cell_type": "code",
   "execution_count": 4,
   "id": "6ba65947-f8f4-498f-afbc-0c97799901f1",
   "metadata": {},
   "outputs": [],
   "source": [
    "import json\n",
    "\n",
    "df[\"table_values\"] = df[\"table\"].apply(lambda x: pd.DataFrame(json.loads(x)).values.flatten().tolist())"
   ]
  },
  {
   "cell_type": "code",
   "execution_count": 12,
   "id": "d6b5a046-1ec0-4ba1-900d-7c19f64d364d",
   "metadata": {},
   "outputs": [],
   "source": [
    "import itertools\n",
    "\n",
    "all_values = list(itertools.chain.from_iterable(df[\"table_values\"].tolist()))"
   ]
  },
  {
   "cell_type": "code",
   "execution_count": 13,
   "id": "7d5e4fd1-9fde-473b-93fd-8118b954ce23",
   "metadata": {},
   "outputs": [
    {
     "name": "stderr",
     "output_type": "stream",
     "text": [
      "/opt/conda/envs/read/lib/python3.8/site-packages/huggingface_hub/file_download.py:621: FutureWarning: `cached_download` is the legacy way to download files from the HF hub, please consider upgrading to `hf_hub_download`\n",
      "  warnings.warn(\n"
     ]
    },
    {
     "name": "stdout",
     "output_type": "stream",
     "text": [
      "2022-10-14 06:00:13,842 loading file /root/.flair/models/ner-english/4f4cdab26f24cb98b732b389e6cebc646c36f54cfd6e0b7d3b90b25656e4262f.8baa8ae8795f4df80b28e7f7b61d788ecbb057d1dc85aacb316f1bd02837a4a4\n",
      "2022-10-14 06:00:19,065 SequenceTagger predicts: Dictionary with 20 tags: <unk>, O, S-ORG, S-MISC, B-PER, E-PER, S-LOC, B-ORG, E-ORG, I-PER, S-PER, B-MISC, I-MISC, E-MISC, I-ORG, B-LOC, E-LOC, I-LOC, <START>, <STOP>\n"
     ]
    }
   ],
   "source": [
    "import re\n",
    "from flair.data import Sentence\n",
    "from flair.models import SequenceTagger\n",
    "\n",
    "tagger = SequenceTagger.load('ner')"
   ]
  },
  {
   "cell_type": "code",
   "execution_count": 23,
   "id": "31a5f2e6-b39d-4e26-b379-151399d12c68",
   "metadata": {},
   "outputs": [],
   "source": [
    "labels = []\n",
    "tags = set()\n",
    "\n",
    "for value in sampled_values:\n",
    "    if not value.strip():\n",
    "        continue\n",
    "    if not re.search('[A-Za-z]', value):\n",
    "        labels.append(1)\n",
    "    else:\n",
    "        sentence = Sentence(str(value))\n",
    "        tagger.predict(sentence)\n",
    "        for entity in sentence.get_spans('ner'):\n",
    "            tag = entity.get_labels(\"ner\")[0].value\n",
    "            tags.add(tag)\n",
    "            labels.append(2)\n",
    "            break\n",
    "        else:\n",
    "            labels.append(0)"
   ]
  },
  {
   "cell_type": "code",
   "execution_count": 24,
   "id": "669ffeea-63c4-46b1-86f0-03203c45fd79",
   "metadata": {},
   "outputs": [
    {
     "data": {
      "text/plain": [
       "Counter({0: 19736, 1: 29357, 2: 32754})"
      ]
     },
     "execution_count": 24,
     "metadata": {},
     "output_type": "execute_result"
    }
   ],
   "source": [
    "from collections import Counter\n",
    " \n",
    "  \n",
    "# creating a list with the keys\n",
    "items = Counter(labels)\n",
    "items"
   ]
  },
  {
   "cell_type": "code",
   "execution_count": 25,
   "id": "cbfa1bc1-221e-4855-92c5-7c35dee9d2da",
   "metadata": {},
   "outputs": [
    {
     "data": {
      "text/plain": [
       "{'LOC', 'MISC', 'ORG', 'PER'}"
      ]
     },
     "execution_count": 25,
     "metadata": {},
     "output_type": "execute_result"
    }
   ],
   "source": [
    "tags"
   ]
  },
  {
   "cell_type": "code",
   "execution_count": null,
   "id": "6200b29b-6f37-4d23-b370-667338d158ae",
   "metadata": {},
   "outputs": [],
   "source": []
  }
 ],
 "metadata": {
  "kernelspec": {
   "display_name": "Python 3 (ipykernel)",
   "language": "python",
   "name": "python3"
  },
  "language_info": {
   "codemirror_mode": {
    "name": "ipython",
    "version": 3
   },
   "file_extension": ".py",
   "mimetype": "text/x-python",
   "name": "python",
   "nbconvert_exporter": "python",
   "pygments_lexer": "ipython3",
   "version": "3.8.13"
  }
 },
 "nbformat": 4,
 "nbformat_minor": 5
}
