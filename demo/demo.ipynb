{
 "cells": [
  {
   "cell_type": "code",
   "execution_count": 4,
   "id": "aca0e444-5be5-4c55-b09e-76833eb1a92d",
   "metadata": {},
   "outputs": [],
   "source": [
    "from huggingface_hub import snapshot_download\n"
   ]
  },
  {
   "cell_type": "code",
   "execution_count": 5,
   "id": "4b247d42-bde2-4a07-8516-acaba216dd1b",
   "metadata": {},
   "outputs": [
    {
     "name": "stderr",
     "output_type": "stream",
     "text": [
      "Downloading: 100%|██████████| 1.41k/1.41k [00:00<00:00, 1.19MB/s]\n",
      "Downloading: 100%|██████████| 4.89G/4.89G [02:17<00:00, 35.6MB/s] \n"
     ]
    },
    {
     "data": {
      "text/plain": [
       "'/root/.cache/huggingface/hub/models--clapika2010--dpr_finetuned_totto/snapshots/79ceea8aab892ac1f46f6fcc3042260cbca2eea0'"
      ]
     },
     "execution_count": 5,
     "metadata": {},
     "output_type": "execute_result"
    }
   ],
   "source": [
    "snapshot_download(\"clapika2010/dpr_finetuned_totto\")"
   ]
  },
  {
   "cell_type": "code",
   "execution_count": 6,
   "id": "f8642f3b",
   "metadata": {},
   "outputs": [],
   "source": [
    "import sys\n",
    "\n",
    "sys.path.append(\"/root/workspace/read/\")"
   ]
  },
  {
   "cell_type": "code",
   "execution_count": 7,
   "id": "aa5ea039",
   "metadata": {},
   "outputs": [],
   "source": [
    "from read.dpr.module import DPRModule"
   ]
  },
  {
   "cell_type": "code",
   "execution_count": null,
   "id": "352dca36",
   "metadata": {},
   "outputs": [],
   "source": []
  }
 ],
 "metadata": {
  "kernelspec": {
   "display_name": "Python 3 (ipykernel)",
   "language": "python",
   "name": "python3"
  },
  "language_info": {
   "codemirror_mode": {
    "name": "ipython",
    "version": 3
   },
   "file_extension": ".py",
   "mimetype": "text/x-python",
   "name": "python",
   "nbconvert_exporter": "python",
   "pygments_lexer": "ipython3",
   "version": "3.8.13"
  },
  "vscode": {
   "interpreter": {
    "hash": "b04cdd20d906f01249004a00e02b15317fd602467e42d5d2658435d7da6fec22"
   }
  }
 },
 "nbformat": 4,
 "nbformat_minor": 5
}
