{
 "cells": [
  {
   "cell_type": "code",
   "execution_count": 9,
   "metadata": {},
   "outputs": [
    {
     "name": "stdout",
     "output_type": "stream",
     "text": [
      "The autoreload extension is already loaded. To reload it, use:\n",
      "  %reload_ext autoreload\n"
     ]
    }
   ],
   "source": [
    "%load_ext autoreload\n",
    "%autoreload 2"
   ]
  },
  {
   "cell_type": "code",
   "execution_count": 2,
   "metadata": {},
   "outputs": [
    {
     "name": "stderr",
     "output_type": "stream",
     "text": [
      "/opt/conda/envs/read/lib/python3.8/site-packages/tqdm/auto.py:22: TqdmWarning: IProgress not found. Please update jupyter and ipywidgets. See https://ipywidgets.readthedocs.io/en/stable/user_install.html\n",
      "  from .autonotebook import tqdm as notebook_tqdm\n"
     ]
    }
   ],
   "source": [
    "from pyserini.search import LuceneSearcher, FaissSearcher\n",
    "from pyserini.search.hybrid import HybridSearcher\n",
    "\n",
    "ssearcher = LuceneSearcher(\"../temp/pyserini_index/\")\n",
    "# fsearcher = FaissSearcher(\"../temp/dpr_index/dpr_full\", \"../temp/qry_encoder_dpr/\")"
   ]
  },
  {
   "cell_type": "code",
   "execution_count": 18,
   "metadata": {},
   "outputs": [
    {
     "data": {
      "text/plain": [
       "'{\\n  \"id\" : \"13059949::[10,19]\",\\n  \"title\" : \"Minh\",\\n  \"contents\" : \"BULLET: - Minh Mạng (1791–1841), Vietnamese emperor BULLET: - Minh Nguyen-Vo (born 1956), Vietnamese film director BULLET: - Minh Tuyet (born 1975), Vietnamese singer BULLET: - Minh Vu (born 1990), American soccer player BULLET: - Nguyen Xuan Minh (born 1971), Vietnamese businessman BULLET: - Phạm Bình Minh (born 1959), Vietnamese politician BULLET: - Quyền Văn Minh (born 1954), Vietnamese jazz saxophonist BULLET: - Son Ngoc Minh (1920–1972), Cambodian politician BULLET: - Thu Minh (born 1977), Vietnamese singer BULLET: - Trần Văn Minh (1923–2009), Vietnamese general and diplomat\"\\n}'"
      ]
     },
     "execution_count": 9,
     "metadata": {},
     "output_type": "execute_result"
    }
   ],
   "source": [
    "ssearcher.search(\"Minh\")[0].raw"
   ]
  },
  {
   "cell_type": "code",
   "execution_count": 4,
   "metadata": {},
   "outputs": [],
   "source": [
    "searcher = HybridSearcher(ssearcher, fsearcher)"
   ]
  },
  {
   "cell_type": "code",
   "execution_count": 5,
   "metadata": {},
   "outputs": [],
   "source": [
    "import pandas as pd\n",
    "\n",
    "df = pd.read_json(\"../data/totto/augmented/dev.jsonl\", lines=True)"
   ]
  },
  {
   "cell_type": "code",
   "execution_count": 6,
   "metadata": {},
   "outputs": [],
   "source": [
    "import json\n",
    "\n",
    "def process_content(raw_content: str) -> str:\n",
    "    title, content = json.loads(raw_content)[\"contents\"].split(\"\\n\\n\", 1)\n",
    "    return title, content"
   ]
  },
  {
   "cell_type": "code",
   "execution_count": 8,
   "metadata": {},
   "outputs": [
    {
     "name": "stdout",
     "output_type": "stream",
     "text": [
      "Index 100\n",
      "{'RetrievalHitRate@1': tensor(0.3500),\n",
      " 'RetrievalHitRate@10': tensor(0.6400),\n",
      " 'RetrievalHitRate@5': tensor(0.5200),\n",
      " 'RetrievalMAP@1': tensor(0.4204),\n",
      " 'RetrievalMAP@10': tensor(0.4204),\n",
      " 'RetrievalMAP@5': tensor(0.4204),\n",
      " 'RetrievalMRR@1': tensor(0.4376),\n",
      " 'RetrievalMRR@10': tensor(0.4376),\n",
      " 'RetrievalMRR@5': tensor(0.4376),\n",
      " 'RetrievalPrecision@1': tensor(0.3500),\n",
      " 'RetrievalPrecision@10': tensor(0.1040),\n",
      " 'RetrievalPrecision@5': tensor(0.1580),\n",
      " 'RetrievalRPrecision@1': tensor(0.3249),\n",
      " 'RetrievalRPrecision@10': tensor(0.3249),\n",
      " 'RetrievalRPrecision@5': tensor(0.3249),\n",
      " 'RetrievalRecall@1': tensor(0.2505),\n",
      " 'RetrievalRecall@10': tensor(0.6400),\n",
      " 'RetrievalRecall@5': tensor(0.4941)}\n",
      "Index 200\n",
      "{'RetrievalHitRate@1': tensor(0.4350),\n",
      " 'RetrievalHitRate@10': tensor(0.6950),\n",
      " 'RetrievalHitRate@5': tensor(0.6050),\n",
      " 'RetrievalMAP@1': tensor(0.4924),\n",
      " 'RetrievalMAP@10': tensor(0.4924),\n",
      " 'RetrievalMAP@5': tensor(0.4924),\n",
      " 'RetrievalMRR@1': tensor(0.5121),\n",
      " 'RetrievalMRR@10': tensor(0.5121),\n",
      " 'RetrievalMRR@5': tensor(0.5121),\n",
      " 'RetrievalPrecision@1': tensor(0.4350),\n",
      " 'RetrievalPrecision@10': tensor(0.1150),\n",
      " 'RetrievalPrecision@5': tensor(0.1770),\n",
      " 'RetrievalRPrecision@1': tensor(0.4045),\n",
      " 'RetrievalRPrecision@10': tensor(0.4045),\n",
      " 'RetrievalRPrecision@5': tensor(0.4045),\n",
      " 'RetrievalRecall@1': tensor(0.3244),\n",
      " 'RetrievalRecall@10': tensor(0.6950),\n",
      " 'RetrievalRecall@5': tensor(0.5587)}\n",
      "Index 300\n",
      "{'RetrievalHitRate@1': tensor(0.4467),\n",
      " 'RetrievalHitRate@10': tensor(0.7167),\n",
      " 'RetrievalHitRate@5': tensor(0.6333),\n",
      " 'RetrievalMAP@1': tensor(0.5052),\n",
      " 'RetrievalMAP@10': tensor(0.5052),\n",
      " 'RetrievalMAP@5': tensor(0.5052),\n",
      " 'RetrievalMRR@1': tensor(0.5284),\n",
      " 'RetrievalMRR@10': tensor(0.5284),\n",
      " 'RetrievalMRR@5': tensor(0.5284),\n",
      " 'RetrievalPrecision@1': tensor(0.4467),\n",
      " 'RetrievalPrecision@10': tensor(0.1207),\n",
      " 'RetrievalPrecision@5': tensor(0.1873),\n",
      " 'RetrievalRPrecision@1': tensor(0.4195),\n",
      " 'RetrievalRPrecision@10': tensor(0.4195),\n",
      " 'RetrievalRPrecision@5': tensor(0.4195),\n",
      " 'RetrievalRecall@1': tensor(0.3303),\n",
      " 'RetrievalRecall@10': tensor(0.7167),\n",
      " 'RetrievalRecall@5': tensor(0.5823)}\n",
      "Index 400\n",
      "{'RetrievalHitRate@1': tensor(0.4325),\n",
      " 'RetrievalHitRate@10': tensor(0.7025),\n",
      " 'RetrievalHitRate@5': tensor(0.6250),\n",
      " 'RetrievalMAP@1': tensor(0.4935),\n",
      " 'RetrievalMAP@10': tensor(0.4935),\n",
      " 'RetrievalMAP@5': tensor(0.4935),\n",
      " 'RetrievalMRR@1': tensor(0.5163),\n",
      " 'RetrievalMRR@10': tensor(0.5163),\n",
      " 'RetrievalMRR@5': tensor(0.5163),\n",
      " 'RetrievalPrecision@1': tensor(0.4325),\n",
      " 'RetrievalPrecision@10': tensor(0.1168),\n",
      " 'RetrievalPrecision@5': tensor(0.1820),\n",
      " 'RetrievalRPrecision@1': tensor(0.4067),\n",
      " 'RetrievalRPrecision@10': tensor(0.4067),\n",
      " 'RetrievalRPrecision@5': tensor(0.4067),\n",
      " 'RetrievalRecall@1': tensor(0.3235),\n",
      " 'RetrievalRecall@10': tensor(0.7025),\n",
      " 'RetrievalRecall@5': tensor(0.5769)}\n",
      "Index 444\n",
      "{'RetrievalHitRate@1': tensor(0.4257),\n",
      " 'RetrievalHitRate@10': tensor(0.7005),\n",
      " 'RetrievalHitRate@5': tensor(0.6261),\n",
      " 'RetrievalMAP@1': tensor(0.4900),\n",
      " 'RetrievalMAP@10': tensor(0.4900),\n",
      " 'RetrievalMAP@5': tensor(0.4900),\n",
      " 'RetrievalMRR@1': tensor(0.5111),\n",
      " 'RetrievalMRR@10': tensor(0.5111),\n",
      " 'RetrievalMRR@5': tensor(0.5111),\n",
      " 'RetrievalPrecision@1': tensor(0.4257),\n",
      " 'RetrievalPrecision@10': tensor(0.1146),\n",
      " 'RetrievalPrecision@5': tensor(0.1811),\n",
      " 'RetrievalRPrecision@1': tensor(0.4004),\n",
      " 'RetrievalRPrecision@10': tensor(0.4004),\n",
      " 'RetrievalRPrecision@5': tensor(0.4004),\n",
      " 'RetrievalRecall@1': tensor(0.3209),\n",
      " 'RetrievalRecall@10': tensor(0.7005),\n",
      " 'RetrievalRecall@5': tensor(0.5815)}\n"
     ]
    }
   ],
   "source": [
    "from read.utils.table import linearize\n",
    "import torch\n",
    "import pprint\n",
    "from torchmetrics import RetrievalHitRate, RetrievalRPrecision, RetrievalRecall, RetrievalPrecision, RetrievalMRR, RetrievalMAP\n",
    "\n",
    "\n",
    "k2metrics = {k: [RetrievalHitRate(k=k), RetrievalRPrecision(k=k), RetrievalRecall(k=k), RetrievalPrecision(k=k), RetrievalMRR(k=k), RetrievalMAP(k=k)] for k in [1, 5, 10]}\n",
    "\n",
    "\n",
    "preds = []\n",
    "indices = []\n",
    "golds = []\n",
    "\n",
    "prediction_data = []\n",
    "\n",
    "df = df.sample(frac=1)\n",
    "idx = 0\n",
    "\n",
    "for _, row in df.iloc[:1000].iterrows():\n",
    "    idx += 1\n",
    "    one_prediction = []\n",
    "    table = row[\"table\"]\n",
    "    query = linearize(table, row[\"highlighted_cells\"], row_sep=\" ; \", value_sep=\" : \", includes_header=True, return_text=True)\n",
    "    \n",
    "    hits = ssearcher.search(query, k=10)\n",
    "    \n",
    "    for hit in hits:\n",
    "        doc = ssearcher.doc(hit.docid)\n",
    "        title, text = process_content(doc.raw())\n",
    "        \n",
    "        preds.append(hit.score)\n",
    "        indices.append(idx)\n",
    "        golds.append(title == row[\"table_page_title\"])\n",
    "        \n",
    "        # if title == row[\"table_page_title\"]:\n",
    "        #     print(f\"Title: '{title}' with query ({query}) for sentence ({row['sentence']})\\n\")\n",
    "        #     print(f\"Label: {row['negatives'] is not None}\\n and index {idx}\")\n",
    "        #     print(f\"Text: {text}\\n\")\n",
    "\n",
    "        one_prediction.append({\"idx\": idx, \"title\": title, \"text\": text, \"score\": hit.score, \"gold\": row[\"table_page_title\"], \"table\": table, \"query\": query, \"sentence\": row[\"sentence_annotations\"]})\n",
    "    \n",
    "    if idx % 100 == 0:\n",
    "        result = {}\n",
    "\n",
    "        pred_tensor = torch.tensor(preds)\n",
    "        gold_tensor = torch.tensor(golds)\n",
    "        indices_tensor = torch.tensor(indices)\n",
    "\n",
    "        for k, metrics in k2metrics.items():\n",
    "            for metric in metrics:\n",
    "                result[f\"{metric.__class__.__name__}@{k}\"] = metric(pred_tensor, gold_tensor, indices_tensor)\n",
    "        print(f\"Index {idx}\")\n",
    "        pprint.pprint(result)\n",
    "    prediction_data.append(one_prediction)\n",
    "\n",
    "\n",
    "pred_tensor = torch.tensor(preds)\n",
    "gold_tensor = torch.tensor(golds)\n",
    "indices_tensor = torch.tensor(indices)\n",
    "for k, metrics in k2metrics.items():\n",
    "    for metric in metrics:\n",
    "        result[f\"{metric.__class__.__name__}@{k}\"] = metric(pred_tensor, gold_tensor, indices_tensor)\n",
    "print(f\"Index {idx}\")\n",
    "pprint.pprint(result)"
   ]
  },
  {
   "cell_type": "code",
   "execution_count": null,
   "metadata": {},
   "outputs": [],
   "source": []
  }
 ],
 "metadata": {
  "kernelspec": {
   "display_name": "Python 3.8.13 ('read')",
   "language": "python",
   "name": "python3"
  },
  "language_info": {
   "codemirror_mode": {
    "name": "ipython",
    "version": 3
   },
   "file_extension": ".py",
   "mimetype": "text/x-python",
   "name": "python",
   "nbconvert_exporter": "python",
   "pygments_lexer": "ipython3",
   "version": "3.8.13"
  },
  "orig_nbformat": 4,
  "vscode": {
   "interpreter": {
    "hash": "b04cdd20d906f01249004a00e02b15317fd602467e42d5d2658435d7da6fec22"
   }
  }
 },
 "nbformat": 4,
 "nbformat_minor": 2
}
