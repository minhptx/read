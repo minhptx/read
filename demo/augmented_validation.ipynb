{
 "cells": [
  {
   "cell_type": "code",
   "execution_count": 1,
   "metadata": {},
   "outputs": [],
   "source": [
    "import pandas as pd"
   ]
  },
  {
   "cell_type": "code",
   "execution_count": 3,
   "metadata": {},
   "outputs": [],
   "source": [
    "df = pd.read_json(\"../data/totto2/filtered/train.jsonl\", lines=True)"
   ]
  },
  {
   "cell_type": "code",
   "execution_count": 5,
   "metadata": {},
   "outputs": [],
   "source": [
    "import json\n",
    "\n",
    "df[\"table\"] = df[\"table\"].apply(lambda x: pd.DataFrame(json.loads(x)))"
   ]
  },
  {
   "cell_type": "code",
   "execution_count": 6,
   "metadata": {},
   "outputs": [],
   "source": [
    "df[\"num_cells\"] = df[\"highlighted_cells\"].apply(lambda x: len(x))\n",
    "df[\"num_highlighted_rows\"] = df[\"highlighted_cells\"].apply(lambda x: len(set([c[0] for c in x])))\n",
    "df[\"num_highlighted_cols\"] = df[\"highlighted_cells\"].apply(lambda x: len(set([c[1] for c in x])))\n",
    "df[\"num_rows\"] = df[\"table\"].apply(lambda x: len(x))\n",
    "df[\"num_cols\"] = df[\"table\"].apply(lambda x: len(x.columns))\n",
    "df[\"num_numeric_headers\"] = df[\"table\"].apply(lambda x: len([c for c in x.columns if c.isdigit()]))"
   ]
  },
  {
   "cell_type": "code",
   "execution_count": 7,
   "metadata": {},
   "outputs": [
    {
     "data": {
      "text/html": [
       "<div>\n",
       "<style scoped>\n",
       "    .dataframe tbody tr th:only-of-type {\n",
       "        vertical-align: middle;\n",
       "    }\n",
       "\n",
       "    .dataframe tbody tr th {\n",
       "        vertical-align: top;\n",
       "    }\n",
       "\n",
       "    .dataframe thead th {\n",
       "        text-align: right;\n",
       "    }\n",
       "</style>\n",
       "<table border=\"1\" class=\"dataframe\">\n",
       "  <thead>\n",
       "    <tr style=\"text-align: right;\">\n",
       "      <th></th>\n",
       "      <th>example_id</th>\n",
       "      <th>num_numeric_headers</th>\n",
       "      <th>num_cells</th>\n",
       "      <th>num_highlighted_rows</th>\n",
       "      <th>num_highlighted_cols</th>\n",
       "      <th>num_rows</th>\n",
       "      <th>num_cols</th>\n",
       "    </tr>\n",
       "  </thead>\n",
       "  <tbody>\n",
       "    <tr>\n",
       "      <th>count</th>\n",
       "      <td>4.898800e+04</td>\n",
       "      <td>48988.000000</td>\n",
       "      <td>48988.000000</td>\n",
       "      <td>48988.000000</td>\n",
       "      <td>48988.000000</td>\n",
       "      <td>48988.000000</td>\n",
       "      <td>48988.000000</td>\n",
       "    </tr>\n",
       "    <tr>\n",
       "      <th>mean</th>\n",
       "      <td>-2.485981e+16</td>\n",
       "      <td>0.075447</td>\n",
       "      <td>3.656630</td>\n",
       "      <td>1.264289</td>\n",
       "      <td>3.185474</td>\n",
       "      <td>18.466686</td>\n",
       "      <td>6.538989</td>\n",
       "    </tr>\n",
       "    <tr>\n",
       "      <th>std</th>\n",
       "      <td>5.321565e+18</td>\n",
       "      <td>0.875694</td>\n",
       "      <td>1.526497</td>\n",
       "      <td>0.527235</td>\n",
       "      <td>1.048294</td>\n",
       "      <td>25.302718</td>\n",
       "      <td>3.428754</td>\n",
       "    </tr>\n",
       "    <tr>\n",
       "      <th>min</th>\n",
       "      <td>-9.223283e+18</td>\n",
       "      <td>0.000000</td>\n",
       "      <td>2.000000</td>\n",
       "      <td>1.000000</td>\n",
       "      <td>1.000000</td>\n",
       "      <td>1.000000</td>\n",
       "      <td>1.000000</td>\n",
       "    </tr>\n",
       "    <tr>\n",
       "      <th>25%</th>\n",
       "      <td>-4.621831e+18</td>\n",
       "      <td>0.000000</td>\n",
       "      <td>3.000000</td>\n",
       "      <td>1.000000</td>\n",
       "      <td>2.000000</td>\n",
       "      <td>5.000000</td>\n",
       "      <td>4.000000</td>\n",
       "    </tr>\n",
       "    <tr>\n",
       "      <th>50%</th>\n",
       "      <td>-4.156014e+16</td>\n",
       "      <td>0.000000</td>\n",
       "      <td>3.000000</td>\n",
       "      <td>1.000000</td>\n",
       "      <td>3.000000</td>\n",
       "      <td>12.000000</td>\n",
       "      <td>5.000000</td>\n",
       "    </tr>\n",
       "    <tr>\n",
       "      <th>75%</th>\n",
       "      <td>4.560755e+18</td>\n",
       "      <td>0.000000</td>\n",
       "      <td>4.000000</td>\n",
       "      <td>1.000000</td>\n",
       "      <td>4.000000</td>\n",
       "      <td>23.000000</td>\n",
       "      <td>8.000000</td>\n",
       "    </tr>\n",
       "    <tr>\n",
       "      <th>max</th>\n",
       "      <td>9.223084e+18</td>\n",
       "      <td>30.000000</td>\n",
       "      <td>20.000000</td>\n",
       "      <td>3.000000</td>\n",
       "      <td>10.000000</td>\n",
       "      <td>1523.000000</td>\n",
       "      <td>48.000000</td>\n",
       "    </tr>\n",
       "  </tbody>\n",
       "</table>\n",
       "</div>"
      ],
      "text/plain": [
       "         example_id  num_numeric_headers     num_cells  num_highlighted_rows  \\\n",
       "count  4.898800e+04         48988.000000  48988.000000          48988.000000   \n",
       "mean  -2.485981e+16             0.075447      3.656630              1.264289   \n",
       "std    5.321565e+18             0.875694      1.526497              0.527235   \n",
       "min   -9.223283e+18             0.000000      2.000000              1.000000   \n",
       "25%   -4.621831e+18             0.000000      3.000000              1.000000   \n",
       "50%   -4.156014e+16             0.000000      3.000000              1.000000   \n",
       "75%    4.560755e+18             0.000000      4.000000              1.000000   \n",
       "max    9.223084e+18            30.000000     20.000000              3.000000   \n",
       "\n",
       "       num_highlighted_cols      num_rows      num_cols  \n",
       "count          48988.000000  48988.000000  48988.000000  \n",
       "mean               3.185474     18.466686      6.538989  \n",
       "std                1.048294     25.302718      3.428754  \n",
       "min                1.000000      1.000000      1.000000  \n",
       "25%                2.000000      5.000000      4.000000  \n",
       "50%                3.000000     12.000000      5.000000  \n",
       "75%                4.000000     23.000000      8.000000  \n",
       "max               10.000000   1523.000000     48.000000  "
      ]
     },
     "execution_count": 7,
     "metadata": {},
     "output_type": "execute_result"
    }
   ],
   "source": [
    "df.describe()"
   ]
  },
  {
   "cell_type": "code",
   "execution_count": null,
   "metadata": {},
   "outputs": [],
   "source": []
  }
 ],
 "metadata": {
  "kernelspec": {
   "display_name": "Python 3.8.13 ('read')",
   "language": "python",
   "name": "python3"
  },
  "language_info": {
   "codemirror_mode": {
    "name": "ipython",
    "version": 3
   },
   "file_extension": ".py",
   "mimetype": "text/x-python",
   "name": "python",
   "nbconvert_exporter": "python",
   "pygments_lexer": "ipython3",
   "version": "3.8.13"
  },
  "orig_nbformat": 4,
  "vscode": {
   "interpreter": {
    "hash": "b04cdd20d906f01249004a00e02b15317fd602467e42d5d2658435d7da6fec22"
   }
  }
 },
 "nbformat": 4,
 "nbformat_minor": 2
}
