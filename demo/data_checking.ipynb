{
 "cells": [
  {
   "cell_type": "code",
   "execution_count": 4,
   "id": "50784535-0193-417c-813d-07f73b128592",
   "metadata": {},
   "outputs": [],
   "source": [
    "import collections\n",
    "from pathlib import Path"
   ]
  },
  {
   "cell_type": "code",
   "execution_count": 23,
   "id": "7c811c35-9f5c-496a-b534-3e79e0dab4a5",
   "metadata": {},
   "outputs": [
    {
     "name": "stdout",
     "output_type": "stream",
     "text": [
      "../data/totto2/triplets/dev.jsonl\n",
      "../data/totto2/triplets/train.jsonl\n"
     ]
    }
   ],
   "source": [
    "import jsonlines\n",
    "\n",
    "examples = []\n",
    "input_dir = \"../data/totto2/triplets/\"\n",
    "split2examples = collections.defaultdict(list)\n",
    "for input_file in Path(input_dir).glob(\"*.jsonl\"):\n",
    "    print(input_file)\n",
    "    with jsonlines.open(input_file) as reader:\n",
    "        for obj in reader:\n",
    "            split2examples[input_file.stem].append(\n",
    "                {\n",
    "                    \"sentence\": obj[\"sentence\"],\n",
    "                    \"label\": 1,\n",
    "                    \"table\": obj[\"positive_table\"],\n",
    "                    \"title\": obj[\"title\"],\n",
    "                    \"highlighted_cells\": obj[\"highlighted_cells\"],\n",
    "                    \"note\": obj[\"note\"]\n",
    "                }\n",
    "            )\n",
    "            negative\n",
    "            split2examples[input_file.stem].append(\n",
    "                {\n",
    "                    \"sentence\": obj[\"sentence\"],\n",
    "                    \"label\": 0,\n",
    "                    \"table\": obj[\"negative_table\"],\n",
    "                    \"title\": obj[\"title\"],\n",
    "                    \"highlighted_cells\": obj[\"highlighted_cells\"],\n",
    "                    \"note\": obj[\"note\"]\n",
    "                }\n",
    "            )"
   ]
  },
  {
   "cell_type": "code",
   "execution_count": 24,
   "id": "c1e7b367-d076-47bf-9588-166484c56652",
   "metadata": {},
   "outputs": [
    {
     "data": {
      "text/plain": [
       "[{'sentence': 'In August 1991, Audi introduced a 4.2-litre engine, displacing 4,172 cubic centimetres (254.6 cu in), to complement the choice of the existing 3.6-litre V8.',\n",
       "  'label': 1,\n",
       "  'table': '[{\"Engine (code)\":\"3.6 V8 (PT)\",\"Displacement, Type Valvetrain\":\"3,562 cc V8 engine 32 valve DOHC\",\"Fuel grade\":\"95 RON (91 AKI) unleaded petrol\",\"Max. Motive Power at rpm (DIN 80\\\\/1269\\\\/EWG)\":\"184 kW (250 PS; 247 bhp) @ 5,800\",\"Max. torque at rpm\":\"340 N\\\\u22c5m (251 lbf\\\\u22c5ft) @ 4,000\",\"Transmissions\":\"4-sp ZF 4HP24A auto 5-sp manual\",\"0-100 km\\\\/h (62.1 mph)\":\"9.9 secs\\\\u2021 7.6 secs*\",\"Top speed\":\"232 km\\\\/h (144.2 mph)\\\\u2021 244 km\\\\/h (151.6 mph)*\",\"Dates\":\"10\\\\/88 \\\\u00f7 11\\\\/93\",\"Dates of Top speed of 0-100 km\\\\/h (62.1 mph) of Transmissions of Max. torque at rpm of Max. Motive Power at rpm (DIN 80\\\\/1269\\\\/EWG) of Fuel grade of Displacement, Type Valvetrain of Engine (code)\":\"\"},{\"Engine (code)\":\"4.2 V8 (ABH)\",\"Displacement, Type Valvetrain\":\"4,172 cc V8 engine 32 valve DOHC\",\"Fuel grade\":\"98 RON (93 AKI) unleaded petrol\",\"Max. Motive Power at rpm (DIN 80\\\\/1269\\\\/EWG)\":\"206 kW (280 PS; 276 bhp) @ 5,800\",\"Max. torque at rpm\":\"400 N\\\\u22c5m (295 lbf\\\\u22c5ft) @ 4,000\",\"Transmissions\":\"4-sp ZF 4HP24A auto 6-sp manual\",\"0-100 km\\\\/h (62.1 mph)\":\"7.7 secs\\\\u2021 6.8 secs*\",\"Top speed\":\"250 km\\\\/h (155.3 mph)\",\"Dates\":\"08\\\\/91 \\\\u00f7 11\\\\/93\",\"Dates of Top speed of 0-100 km\\\\/h (62.1 mph) of Transmissions of Max. torque at rpm of Max. Motive Power at rpm (DIN 80\\\\/1269\\\\/EWG) of Fuel grade of Displacement, Type Valvetrain of Engine (code)\":\"\"}]',\n",
       "  'title': 'Audi V8',\n",
       "  'highlighted_cells': [[1, 0], [1, 1]],\n",
       "  'note': '[\"3,562 cc V8 engine 32 valve DOHC\", \"4,172 cc V8 engine 32 valve DOHC\", 1, 1]'},\n",
       " {'sentence': 'In August 1991, Audi introduced a 4.2-litre engine, displacing 4,172 cubic centimetres (254.6 cu in), to complement the choice of the existing 3.6-litre V8.',\n",
       "  'label': 0,\n",
       "  'table': '[{\"Engine (code)\":\"3.6 V8 (PT)\",\"Displacement, Type Valvetrain\":\"3,562 cc V8 engine 32 valve DOHC\",\"Fuel grade\":\"95 RON (91 AKI) unleaded petrol\",\"Max. Motive Power at rpm (DIN 80\\\\/1269\\\\/EWG)\":\"184 kW (250 PS; 247 bhp) @ 5,800\",\"Max. torque at rpm\":\"340 N\\\\u22c5m (251 lbf\\\\u22c5ft) @ 4,000\",\"Transmissions\":\"4-sp ZF 4HP24A auto 5-sp manual\",\"0-100 km\\\\/h (62.1 mph)\":\"9.9 secs\\\\u2021 7.6 secs*\",\"Top speed\":\"232 km\\\\/h (144.2 mph)\\\\u2021 244 km\\\\/h (151.6 mph)*\",\"Dates\":\"10\\\\/88 \\\\u00f7 11\\\\/93\",\"Dates of Top speed of 0-100 km\\\\/h (62.1 mph) of Transmissions of Max. torque at rpm of Max. Motive Power at rpm (DIN 80\\\\/1269\\\\/EWG) of Fuel grade of Displacement, Type Valvetrain of Engine (code)\":\"\"},{\"Engine (code)\":\"4.2 V8 (ABH)\",\"Displacement, Type Valvetrain\":\"4,172 cc V8 engine 32 valve DOHC\",\"Fuel grade\":\"98 RON (93 AKI) unleaded petrol\",\"Max. Motive Power at rpm (DIN 80\\\\/1269\\\\/EWG)\":\"206 kW (280 PS; 276 bhp) @ 5,800\",\"Max. torque at rpm\":\"400 N\\\\u22c5m (295 lbf\\\\u22c5ft) @ 4,000\",\"Transmissions\":\"4-sp ZF 4HP24A auto 6-sp manual\",\"0-100 km\\\\/h (62.1 mph)\":\"7.7 secs\\\\u2021 6.8 secs*\",\"Top speed\":\"250 km\\\\/h (155.3 mph)\",\"Dates\":\"08\\\\/91 \\\\u00f7 11\\\\/93\",\"Dates of Top speed of 0-100 km\\\\/h (62.1 mph) of Transmissions of Max. torque at rpm of Max. Motive Power at rpm (DIN 80\\\\/1269\\\\/EWG) of Fuel grade of Displacement, Type Valvetrain of Engine (code)\":\"\"}]',\n",
       "  'title': 'Audi V8',\n",
       "  'highlighted_cells': [[1, 0], [1, 1]],\n",
       "  'note': '[\"3,562 cc V8 engine 32 valve DOHC\", \"4,172 cc V8 engine 32 valve DOHC\", 1, 1]'}]"
      ]
     },
     "execution_count": 24,
     "metadata": {},
     "output_type": "execute_result"
    }
   ],
   "source": [
    "split2examples[\"train\"][:2]"
   ]
  },
  {
   "cell_type": "code",
   "execution_count": 21,
   "id": "234f3a99-15ae-4bb9-a230-6d7a9b896a6d",
   "metadata": {},
   "outputs": [],
   "source": [
    "import pandas as pd\n",
    "import json\n",
    "\n",
    "df1 = pd.DataFrame(json.loads(split2examples[\"train\"][0][\"table\"]))\n",
    "df2 = pd.DataFrame(json.loads(split2examples[\"train\"][1][\"table\"]))"
   ]
  },
  {
   "cell_type": "code",
   "execution_count": 25,
   "id": "1d9b6c77-2f9c-4df6-92cb-7ff3a3e4659b",
   "metadata": {},
   "outputs": [
    {
     "data": {
      "text/html": [
       "<div>\n",
       "<style scoped>\n",
       "    .dataframe tbody tr th:only-of-type {\n",
       "        vertical-align: middle;\n",
       "    }\n",
       "\n",
       "    .dataframe tbody tr th {\n",
       "        vertical-align: top;\n",
       "    }\n",
       "\n",
       "    .dataframe thead th {\n",
       "        text-align: right;\n",
       "    }\n",
       "</style>\n",
       "<table border=\"1\" class=\"dataframe\">\n",
       "  <thead>\n",
       "    <tr style=\"text-align: right;\">\n",
       "      <th></th>\n",
       "      <th>Engine (code)</th>\n",
       "      <th>Displacement, Type Valvetrain</th>\n",
       "      <th>Fuel grade</th>\n",
       "      <th>Max. Motive Power at rpm (DIN 80/1269/EWG)</th>\n",
       "      <th>Max. torque at rpm</th>\n",
       "      <th>Transmissions</th>\n",
       "      <th>0-100 km/h (62.1 mph)</th>\n",
       "      <th>Top speed</th>\n",
       "      <th>Dates</th>\n",
       "      <th>Dates of Top speed of 0-100 km/h (62.1 mph) of Transmissions of Max. torque at rpm of Max. Motive Power at rpm (DIN 80/1269/EWG) of Fuel grade of Displacement, Type Valvetrain of Engine (code)</th>\n",
       "    </tr>\n",
       "  </thead>\n",
       "  <tbody>\n",
       "    <tr>\n",
       "      <th>0</th>\n",
       "      <td>3.6 V8 (PT)</td>\n",
       "      <td>3,562 cc V8 engine 32 valve DOHC</td>\n",
       "      <td>95 RON (91 AKI) unleaded petrol</td>\n",
       "      <td>184 kW (250 PS; 247 bhp) @ 5,800</td>\n",
       "      <td>340 N⋅m (251 lbf⋅ft) @ 4,000</td>\n",
       "      <td>4-sp ZF 4HP24A auto 5-sp manual</td>\n",
       "      <td>9.9 secs‡ 7.6 secs*</td>\n",
       "      <td>232 km/h (144.2 mph)‡ 244 km/h (151.6 mph)*</td>\n",
       "      <td>10/88 ÷ 11/93</td>\n",
       "      <td></td>\n",
       "    </tr>\n",
       "    <tr>\n",
       "      <th>1</th>\n",
       "      <td>4.2 V8 (ABH)</td>\n",
       "      <td>4,172 cc V8 engine 32 valve DOHC</td>\n",
       "      <td>98 RON (93 AKI) unleaded petrol</td>\n",
       "      <td>206 kW (280 PS; 276 bhp) @ 5,800</td>\n",
       "      <td>400 N⋅m (295 lbf⋅ft) @ 4,000</td>\n",
       "      <td>4-sp ZF 4HP24A auto 6-sp manual</td>\n",
       "      <td>7.7 secs‡ 6.8 secs*</td>\n",
       "      <td>250 km/h (155.3 mph)</td>\n",
       "      <td>08/91 ÷ 11/93</td>\n",
       "      <td></td>\n",
       "    </tr>\n",
       "  </tbody>\n",
       "</table>\n",
       "</div>"
      ],
      "text/plain": [
       "  Engine (code)     Displacement, Type Valvetrain  \\\n",
       "0   3.6 V8 (PT)  3,562 cc V8 engine 32 valve DOHC   \n",
       "1  4.2 V8 (ABH)  4,172 cc V8 engine 32 valve DOHC   \n",
       "\n",
       "                        Fuel grade Max. Motive Power at rpm (DIN 80/1269/EWG)  \\\n",
       "0  95 RON (91 AKI) unleaded petrol           184 kW (250 PS; 247 bhp) @ 5,800   \n",
       "1  98 RON (93 AKI) unleaded petrol           206 kW (280 PS; 276 bhp) @ 5,800   \n",
       "\n",
       "             Max. torque at rpm                    Transmissions  \\\n",
       "0  340 N⋅m (251 lbf⋅ft) @ 4,000  4-sp ZF 4HP24A auto 5-sp manual   \n",
       "1  400 N⋅m (295 lbf⋅ft) @ 4,000  4-sp ZF 4HP24A auto 6-sp manual   \n",
       "\n",
       "  0-100 km/h (62.1 mph)                                    Top speed  \\\n",
       "0   9.9 secs‡ 7.6 secs*  232 km/h (144.2 mph)‡ 244 km/h (151.6 mph)*   \n",
       "1   7.7 secs‡ 6.8 secs*                         250 km/h (155.3 mph)   \n",
       "\n",
       "           Dates  \\\n",
       "0  10/88 ÷ 11/93   \n",
       "1  08/91 ÷ 11/93   \n",
       "\n",
       "  Dates of Top speed of 0-100 km/h (62.1 mph) of Transmissions of Max. torque at rpm of Max. Motive Power at rpm (DIN 80/1269/EWG) of Fuel grade of Displacement, Type Valvetrain of Engine (code)  \n",
       "0                                                                                                                                                                                                   \n",
       "1                                                                                                                                                                                                   "
      ]
     },
     "execution_count": 25,
     "metadata": {},
     "output_type": "execute_result"
    }
   ],
   "source": [
    "df1"
   ]
  },
  {
   "cell_type": "code",
   "execution_count": 26,
   "id": "29b2507b-a710-441c-8e6f-78fa1e59d4d8",
   "metadata": {},
   "outputs": [
    {
     "data": {
      "text/html": [
       "<div>\n",
       "<style scoped>\n",
       "    .dataframe tbody tr th:only-of-type {\n",
       "        vertical-align: middle;\n",
       "    }\n",
       "\n",
       "    .dataframe tbody tr th {\n",
       "        vertical-align: top;\n",
       "    }\n",
       "\n",
       "    .dataframe thead th {\n",
       "        text-align: right;\n",
       "    }\n",
       "</style>\n",
       "<table border=\"1\" class=\"dataframe\">\n",
       "  <thead>\n",
       "    <tr style=\"text-align: right;\">\n",
       "      <th></th>\n",
       "      <th>Engine (code)</th>\n",
       "      <th>Displacement, Type Valvetrain</th>\n",
       "      <th>Fuel grade</th>\n",
       "      <th>Max. Motive Power at rpm (DIN 80/1269/EWG)</th>\n",
       "      <th>Max. torque at rpm</th>\n",
       "      <th>Transmissions</th>\n",
       "      <th>0-100 km/h (62.1 mph)</th>\n",
       "      <th>Top speed</th>\n",
       "      <th>Dates</th>\n",
       "      <th>Dates of Top speed of 0-100 km/h (62.1 mph) of Transmissions of Max. torque at rpm of Max. Motive Power at rpm (DIN 80/1269/EWG) of Fuel grade of Displacement, Type Valvetrain of Engine (code)</th>\n",
       "    </tr>\n",
       "  </thead>\n",
       "  <tbody>\n",
       "    <tr>\n",
       "      <th>0</th>\n",
       "      <td>3.6 V8 (PT)</td>\n",
       "      <td>3,562 cc V8 engine 32 valve DOHC</td>\n",
       "      <td>95 RON (91 AKI) unleaded petrol</td>\n",
       "      <td>184 kW (250 PS; 247 bhp) @ 5,800</td>\n",
       "      <td>340 N⋅m (251 lbf⋅ft) @ 4,000</td>\n",
       "      <td>4-sp ZF 4HP24A auto 5-sp manual</td>\n",
       "      <td>9.9 secs‡ 7.6 secs*</td>\n",
       "      <td>232 km/h (144.2 mph)‡ 244 km/h (151.6 mph)*</td>\n",
       "      <td>10/88 ÷ 11/93</td>\n",
       "      <td></td>\n",
       "    </tr>\n",
       "    <tr>\n",
       "      <th>1</th>\n",
       "      <td>4.2 V8 (ABH)</td>\n",
       "      <td>4,172 cc V8 engine 32 valve DOHC</td>\n",
       "      <td>98 RON (93 AKI) unleaded petrol</td>\n",
       "      <td>206 kW (280 PS; 276 bhp) @ 5,800</td>\n",
       "      <td>400 N⋅m (295 lbf⋅ft) @ 4,000</td>\n",
       "      <td>4-sp ZF 4HP24A auto 6-sp manual</td>\n",
       "      <td>7.7 secs‡ 6.8 secs*</td>\n",
       "      <td>250 km/h (155.3 mph)</td>\n",
       "      <td>08/91 ÷ 11/93</td>\n",
       "      <td></td>\n",
       "    </tr>\n",
       "  </tbody>\n",
       "</table>\n",
       "</div>"
      ],
      "text/plain": [
       "  Engine (code)     Displacement, Type Valvetrain  \\\n",
       "0   3.6 V8 (PT)  3,562 cc V8 engine 32 valve DOHC   \n",
       "1  4.2 V8 (ABH)  4,172 cc V8 engine 32 valve DOHC   \n",
       "\n",
       "                        Fuel grade Max. Motive Power at rpm (DIN 80/1269/EWG)  \\\n",
       "0  95 RON (91 AKI) unleaded petrol           184 kW (250 PS; 247 bhp) @ 5,800   \n",
       "1  98 RON (93 AKI) unleaded petrol           206 kW (280 PS; 276 bhp) @ 5,800   \n",
       "\n",
       "             Max. torque at rpm                    Transmissions  \\\n",
       "0  340 N⋅m (251 lbf⋅ft) @ 4,000  4-sp ZF 4HP24A auto 5-sp manual   \n",
       "1  400 N⋅m (295 lbf⋅ft) @ 4,000  4-sp ZF 4HP24A auto 6-sp manual   \n",
       "\n",
       "  0-100 km/h (62.1 mph)                                    Top speed  \\\n",
       "0   9.9 secs‡ 7.6 secs*  232 km/h (144.2 mph)‡ 244 km/h (151.6 mph)*   \n",
       "1   7.7 secs‡ 6.8 secs*                         250 km/h (155.3 mph)   \n",
       "\n",
       "           Dates  \\\n",
       "0  10/88 ÷ 11/93   \n",
       "1  08/91 ÷ 11/93   \n",
       "\n",
       "  Dates of Top speed of 0-100 km/h (62.1 mph) of Transmissions of Max. torque at rpm of Max. Motive Power at rpm (DIN 80/1269/EWG) of Fuel grade of Displacement, Type Valvetrain of Engine (code)  \n",
       "0                                                                                                                                                                                                   \n",
       "1                                                                                                                                                                                                   "
      ]
     },
     "execution_count": 26,
     "metadata": {},
     "output_type": "execute_result"
    }
   ],
   "source": [
    "df2"
   ]
  },
  {
   "cell_type": "code",
   "execution_count": null,
   "id": "69fbeb43-43d1-4c68-a5ef-d7567414f8d8",
   "metadata": {},
   "outputs": [],
   "source": []
  }
 ],
 "metadata": {
  "kernelspec": {
   "display_name": "Python 3 (ipykernel)",
   "language": "python",
   "name": "python3"
  },
  "language_info": {
   "codemirror_mode": {
    "name": "ipython",
    "version": 3
   },
   "file_extension": ".py",
   "mimetype": "text/x-python",
   "name": "python",
   "nbconvert_exporter": "python",
   "pygments_lexer": "ipython3",
   "version": "3.8.13"
  }
 },
 "nbformat": 4,
 "nbformat_minor": 5
}
