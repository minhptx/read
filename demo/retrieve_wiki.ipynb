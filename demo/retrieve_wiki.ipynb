{
 "cells": [
  {
   "cell_type": "code",
   "execution_count": 1,
   "id": "85741e4a-4d1d-4f2c-a470-686cddfe046a",
   "metadata": {},
   "outputs": [],
   "source": [
    "from kilt.knowledge_source import KnowledgeSource\n",
    "\n",
    "\n",
    "ks = KnowledgeSource()"
   ]
  },
  {
   "cell_type": "code",
   "execution_count": 3,
   "id": "4fd40aec",
   "metadata": {},
   "outputs": [
    {
     "data": {
      "text/plain": [
       "{'_id': '15418459',\n",
       " 'wikipedia_id': '15418459',\n",
       " 'wikipedia_title': 'Takeshi So',\n",
       " 'text': ['Takeshi So\\n',\n",
       "  'He currently trains marathon runner and 2016 Olympics hopeful Satoru Sasaki and runs the marathon program for the Japan Association of Athletics Federations.\\n',\n",
       "  'His PR in the marathon was 2:08:55 at the 1983 Tokyo International Marathon, finishing second, 17 seconds behind fellow Japanese runner Toshihiko Seko.\\n',\n",
       "  'Section::::External links.\\n',\n",
       "  'BULLET::::- 1980 Year Ranking\\n',\n",
       "  'BULLET::::- sports-reference\\n',\n",
       "  'br\\n'],\n",
       " 'anchors': [{'text': '2016 Olympics',\n",
       "   'href': '2016%20Olympics',\n",
       "   'paragraph_id': 1,\n",
       "   'start': 40,\n",
       "   'end': 53},\n",
       "  {'text': 'Satoru Sasaki',\n",
       "   'href': 'Satoru%20Sasaki',\n",
       "   'paragraph_id': 1,\n",
       "   'start': 62,\n",
       "   'end': 75},\n",
       "  {'text': 'Japan Association of Athletics Federations',\n",
       "   'href': 'Japan%20Association%20of%20Athletics%20Federations',\n",
       "   'paragraph_id': 1,\n",
       "   'start': 114,\n",
       "   'end': 156},\n",
       "  {'text': '1980 Year Ranking',\n",
       "   'href': 'http%3A//www.arrs.run/ATM_Mara1980.htm',\n",
       "   'paragraph_id': 4,\n",
       "   'start': 12,\n",
       "   'end': 29},\n",
       "  {'text': 'sports-reference',\n",
       "   'href': 'https%3A//www.sports-reference.com/olympics/athletes/so/takeshi-so-1.html',\n",
       "   'paragraph_id': 5,\n",
       "   'start': 12,\n",
       "   'end': 28}],\n",
       " 'categories': 'Twin people from Japan,Twin sportspeople,Japanese male marathon runners,Japanese male long-distance runners,Olympic athletes of Japan,Sportspeople from Ōita Prefecture,1953 births,Living people,Athletes (track and field) at the 1984 Summer Olympics',\n",
       " 'history': {'revid': 871661750,\n",
       "  'timestamp': '2018-12-02T16:57:40Z',\n",
       "  'parentid': 860880476,\n",
       "  'pre_dump': True,\n",
       "  'pageid': 15418459,\n",
       "  'url': 'https://en.wikipedia.org/w/index.php?title=Takeshi%20So&oldid=871661750'},\n",
       " 'wikidata_info': {'aliases': None,\n",
       "  'wikidata_label': 'Takeshi So',\n",
       "  'description': 'Japanese long-distance runner',\n",
       "  'wikidata_id': 'Q450136',\n",
       "  'wikipedia_title': 'Takeshi So'}}"
      ]
     },
     "execution_count": 3,
     "metadata": {},
     "output_type": "execute_result"
    }
   ],
   "source": [
    "ks.get_page_by_title(\"Takeshi So\")"
   ]
  },
  {
   "cell_type": "code",
   "execution_count": null,
   "id": "43f5f02d",
   "metadata": {},
   "outputs": [],
   "source": []
  }
 ],
 "metadata": {
  "kernelspec": {
   "display_name": "Python 3 (ipykernel)",
   "language": "python",
   "name": "python3"
  },
  "language_info": {
   "codemirror_mode": {
    "name": "ipython",
    "version": 3
   },
   "file_extension": ".py",
   "mimetype": "text/x-python",
   "name": "python",
   "nbconvert_exporter": "python",
   "pygments_lexer": "ipython3",
   "version": "3.8.13"
  },
  "vscode": {
   "interpreter": {
    "hash": "b04cdd20d906f01249004a00e02b15317fd602467e42d5d2658435d7da6fec22"
   }
  }
 },
 "nbformat": 4,
 "nbformat_minor": 5
}
